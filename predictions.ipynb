{
  "nbformat": 4,
  "nbformat_minor": 0,
  "metadata": {
    "colab": {
      "provenance": [],
      "include_colab_link": true
    },
    "kernelspec": {
      "name": "python3",
      "display_name": "Python 3"
    },
    "language_info": {
      "name": "python"
    }
  },
  "cells": [
    {
      "cell_type": "markdown",
      "metadata": {
        "id": "view-in-github",
        "colab_type": "text"
      },
      "source": [
        "<a href=\"https://colab.research.google.com/github/rahulranjansah/Animations/blob/main/predictions.ipynb\" target=\"_parent\"><img src=\"https://colab.research.google.com/assets/colab-badge.svg\" alt=\"Open In Colab\"/></a>"
      ]
    },
    {
      "cell_type": "code",
      "source": [
        "pip install dtale\n"
      ],
      "metadata": {
        "colab": {
          "base_uri": "https://localhost:8080/"
        },
        "id": "yWMecFtjCrmw",
        "outputId": "2f24df46-ae6b-4233-bf72-aca91cd627ea"
      },
      "execution_count": null,
      "outputs": [
        {
          "output_type": "stream",
          "name": "stdout",
          "text": [
            "Requirement already satisfied: dtale in /usr/local/lib/python3.10/dist-packages (3.11.0)\n",
            "Requirement already satisfied: dash-colorscales in /usr/local/lib/python3.10/dist-packages (from dtale) (0.0.4)\n",
            "Requirement already satisfied: dash-daq in /usr/local/lib/python3.10/dist-packages (from dtale) (0.5.0)\n",
            "Requirement already satisfied: Flask-Compress in /usr/local/lib/python3.10/dist-packages (from dtale) (1.14)\n",
            "Requirement already satisfied: future>=0.14.0 in /usr/local/lib/python3.10/dist-packages (from dtale) (0.18.3)\n",
            "Requirement already satisfied: kaleido in /usr/local/lib/python3.10/dist-packages (from dtale) (0.2.1)\n",
            "Requirement already satisfied: missingno in /usr/local/lib/python3.10/dist-packages (from dtale) (0.5.2)\n",
            "Requirement already satisfied: pandas in /usr/local/lib/python3.10/dist-packages (from dtale) (2.0.3)\n",
            "Requirement already satisfied: squarify in /usr/local/lib/python3.10/dist-packages (from dtale) (0.4.3)\n",
            "Requirement already satisfied: strsimpy in /usr/local/lib/python3.10/dist-packages (from dtale) (0.2.1)\n",
            "Requirement already satisfied: six in /usr/local/lib/python3.10/dist-packages (from dtale) (1.16.0)\n",
            "Requirement already satisfied: xlrd in /usr/local/lib/python3.10/dist-packages (from dtale) (2.0.1)\n",
            "Requirement already satisfied: beautifulsoup4 in /usr/local/lib/python3.10/dist-packages (from dtale) (4.12.3)\n",
            "Requirement already satisfied: certifi in /usr/local/lib/python3.10/dist-packages (from dtale) (2024.2.2)\n",
            "Requirement already satisfied: flask-ngrok in /usr/local/lib/python3.10/dist-packages (from dtale) (0.0.25)\n",
            "Requirement already satisfied: lz4 in /usr/local/lib/python3.10/dist-packages (from dtale) (4.3.3)\n",
            "Requirement already satisfied: cycler in /usr/local/lib/python3.10/dist-packages (from dtale) (0.12.1)\n",
            "Requirement already satisfied: dash-bootstrap-components<=1.3.1 in /usr/local/lib/python3.10/dist-packages (from dtale) (1.3.1)\n",
            "Requirement already satisfied: dash in /usr/local/lib/python3.10/dist-packages (from dtale) (2.16.1)\n",
            "Requirement already satisfied: seaborn in /usr/local/lib/python3.10/dist-packages (from dtale) (0.13.1)\n",
            "Requirement already satisfied: statsmodels in /usr/local/lib/python3.10/dist-packages (from dtale) (0.14.1)\n",
            "Requirement already satisfied: werkzeug in /usr/local/lib/python3.10/dist-packages (from dtale) (3.0.2)\n",
            "Requirement already satisfied: networkx in /usr/local/lib/python3.10/dist-packages (from dtale) (3.2.1)\n",
            "Requirement already satisfied: scikit-learn in /usr/local/lib/python3.10/dist-packages (from dtale) (1.2.2)\n",
            "Requirement already satisfied: numpy in /usr/local/lib/python3.10/dist-packages (from dtale) (1.25.2)\n",
            "Requirement already satisfied: openpyxl!=3.2.0b1 in /usr/local/lib/python3.10/dist-packages (from dtale) (3.1.2)\n",
            "Requirement already satisfied: xarray in /usr/local/lib/python3.10/dist-packages (from dtale) (2023.7.0)\n",
            "Requirement already satisfied: et-xmlfile in /usr/local/lib/python3.10/dist-packages (from dtale) (1.1.0)\n",
            "Requirement already satisfied: plotly in /usr/local/lib/python3.10/dist-packages (from dtale) (5.15.0)\n",
            "Requirement already satisfied: Flask<2.3 in /usr/local/lib/python3.10/dist-packages (from dtale) (2.2.5)\n",
            "Requirement already satisfied: itsdangerous in /usr/local/lib/python3.10/dist-packages (from dtale) (2.1.2)\n",
            "Requirement already satisfied: requests in /usr/local/lib/python3.10/dist-packages (from dtale) (2.31.0)\n",
            "Requirement already satisfied: contourpy in /usr/local/lib/python3.10/dist-packages (from dtale) (1.2.0)\n",
            "Requirement already satisfied: matplotlib in /usr/local/lib/python3.10/dist-packages (from dtale) (3.7.1)\n",
            "Requirement already satisfied: scipy!=1.12.0rc1 in /usr/local/lib/python3.10/dist-packages (from dtale) (1.11.4)\n",
            "Requirement already satisfied: dash-html-components==2.0.0 in /usr/local/lib/python3.10/dist-packages (from dash->dtale) (2.0.0)\n",
            "Requirement already satisfied: dash-core-components==2.0.0 in /usr/local/lib/python3.10/dist-packages (from dash->dtale) (2.0.0)\n",
            "Requirement already satisfied: dash-table==5.0.0 in /usr/local/lib/python3.10/dist-packages (from dash->dtale) (5.0.0)\n",
            "Requirement already satisfied: importlib-metadata in /usr/local/lib/python3.10/dist-packages (from dash->dtale) (7.1.0)\n",
            "Requirement already satisfied: typing-extensions>=4.1.1 in /usr/local/lib/python3.10/dist-packages (from dash->dtale) (4.10.0)\n",
            "Requirement already satisfied: retrying in /usr/local/lib/python3.10/dist-packages (from dash->dtale) (1.3.4)\n",
            "Requirement already satisfied: nest-asyncio in /usr/local/lib/python3.10/dist-packages (from dash->dtale) (1.6.0)\n",
            "Requirement already satisfied: setuptools in /usr/local/lib/python3.10/dist-packages (from dash->dtale) (67.7.2)\n",
            "Requirement already satisfied: Jinja2>=3.0 in /usr/local/lib/python3.10/dist-packages (from Flask<2.3->dtale) (3.1.3)\n",
            "Requirement already satisfied: click>=8.0 in /usr/local/lib/python3.10/dist-packages (from Flask<2.3->dtale) (8.1.7)\n",
            "Requirement already satisfied: tenacity>=6.2.0 in /usr/local/lib/python3.10/dist-packages (from plotly->dtale) (8.2.3)\n",
            "Requirement already satisfied: packaging in /usr/local/lib/python3.10/dist-packages (from plotly->dtale) (24.0)\n",
            "Requirement already satisfied: MarkupSafe>=2.1.1 in /usr/local/lib/python3.10/dist-packages (from werkzeug->dtale) (2.1.5)\n",
            "Requirement already satisfied: soupsieve>1.2 in /usr/local/lib/python3.10/dist-packages (from beautifulsoup4->dtale) (2.5)\n",
            "Requirement already satisfied: brotli in /usr/local/lib/python3.10/dist-packages (from Flask-Compress->dtale) (1.1.0)\n",
            "Requirement already satisfied: fonttools>=4.22.0 in /usr/local/lib/python3.10/dist-packages (from matplotlib->dtale) (4.50.0)\n",
            "Requirement already satisfied: kiwisolver>=1.0.1 in /usr/local/lib/python3.10/dist-packages (from matplotlib->dtale) (1.4.5)\n",
            "Requirement already satisfied: pillow>=6.2.0 in /usr/local/lib/python3.10/dist-packages (from matplotlib->dtale) (9.4.0)\n",
            "Requirement already satisfied: pyparsing>=2.3.1 in /usr/local/lib/python3.10/dist-packages (from matplotlib->dtale) (3.1.2)\n",
            "Requirement already satisfied: python-dateutil>=2.7 in /usr/local/lib/python3.10/dist-packages (from matplotlib->dtale) (2.8.2)\n",
            "Requirement already satisfied: pytz>=2020.1 in /usr/local/lib/python3.10/dist-packages (from pandas->dtale) (2023.4)\n",
            "Requirement already satisfied: tzdata>=2022.1 in /usr/local/lib/python3.10/dist-packages (from pandas->dtale) (2024.1)\n",
            "Requirement already satisfied: charset-normalizer<4,>=2 in /usr/local/lib/python3.10/dist-packages (from requests->dtale) (3.3.2)\n",
            "Requirement already satisfied: idna<4,>=2.5 in /usr/local/lib/python3.10/dist-packages (from requests->dtale) (3.6)\n",
            "Requirement already satisfied: urllib3<3,>=1.21.1 in /usr/local/lib/python3.10/dist-packages (from requests->dtale) (2.0.7)\n",
            "Requirement already satisfied: joblib>=1.1.1 in /usr/local/lib/python3.10/dist-packages (from scikit-learn->dtale) (1.3.2)\n",
            "Requirement already satisfied: threadpoolctl>=2.0.0 in /usr/local/lib/python3.10/dist-packages (from scikit-learn->dtale) (3.4.0)\n",
            "Requirement already satisfied: patsy>=0.5.4 in /usr/local/lib/python3.10/dist-packages (from statsmodels->dtale) (0.5.6)\n",
            "Requirement already satisfied: zipp>=0.5 in /usr/local/lib/python3.10/dist-packages (from importlib-metadata->dash->dtale) (3.18.1)\n"
          ]
        }
      ]
    },
    {
      "cell_type": "code",
      "execution_count": 8,
      "metadata": {
        "id": "FtcYas45CETf"
      },
      "outputs": [],
      "source": [
        "import pandas as pd\n"
      ]
    },
    {
      "cell_type": "code",
      "source": [
        "df = pd.read_csv(\"checkpoints_pulse.csv\")\n",
        "df.head()"
      ],
      "metadata": {
        "colab": {
          "base_uri": "https://localhost:8080/",
          "height": 293
        },
        "id": "VEUuZrpYCyau",
        "outputId": "02702d78-c367-4730-ed51-ed8bf24135c7"
      },
      "execution_count": null,
      "outputs": [
        {
          "output_type": "execute_result",
          "data": {
            "text/plain": [
              "                                          book release  \\\n",
              "0  College / Statistics and Data Science (ABC)    v5.0   \n",
              "1  College / Statistics and Data Science (ABC)    v5.0   \n",
              "2  College / Statistics and Data Science (ABC)    v5.0   \n",
              "3  College / Statistics and Data Science (ABC)    v5.0   \n",
              "4  College / Statistics and Data Science (ABC)    v5.0   \n",
              "\n",
              "                         institution_id                              class_id  \\\n",
              "0  04157183-8665-400a-925d-3bbb70ffe45e  afcb6b4e-a0c0-46ce-b38c-c96329c91471   \n",
              "1  04157183-8665-400a-925d-3bbb70ffe45e  afcb6b4e-a0c0-46ce-b38c-c96329c91471   \n",
              "2  04157183-8665-400a-925d-3bbb70ffe45e  afcb6b4e-a0c0-46ce-b38c-c96329c91471   \n",
              "3  04157183-8665-400a-925d-3bbb70ffe45e  afcb6b4e-a0c0-46ce-b38c-c96329c91471   \n",
              "4  04157183-8665-400a-925d-3bbb70ffe45e  afcb6b4e-a0c0-46ce-b38c-c96329c91471   \n",
              "\n",
              "                             student_id  chapter_number construct  response  \n",
              "0  953768c5-32fa-4190-8fee-1da82d8710bc              10      Cost       NaN  \n",
              "1  953768c5-32fa-4190-8fee-1da82d8710bc              11      Cost       NaN  \n",
              "2  953768c5-32fa-4190-8fee-1da82d8710bc              12      Cost       NaN  \n",
              "3  953768c5-32fa-4190-8fee-1da82d8710bc               2      Cost       2.0  \n",
              "4  953768c5-32fa-4190-8fee-1da82d8710bc               3      Cost       2.0  "
            ],
            "text/html": [
              "\n",
              "  <div id=\"df-57d2d666-9dd9-4ae1-9407-81eb294a983e\" class=\"colab-df-container\">\n",
              "    <div>\n",
              "<style scoped>\n",
              "    .dataframe tbody tr th:only-of-type {\n",
              "        vertical-align: middle;\n",
              "    }\n",
              "\n",
              "    .dataframe tbody tr th {\n",
              "        vertical-align: top;\n",
              "    }\n",
              "\n",
              "    .dataframe thead th {\n",
              "        text-align: right;\n",
              "    }\n",
              "</style>\n",
              "<table border=\"1\" class=\"dataframe\">\n",
              "  <thead>\n",
              "    <tr style=\"text-align: right;\">\n",
              "      <th></th>\n",
              "      <th>book</th>\n",
              "      <th>release</th>\n",
              "      <th>institution_id</th>\n",
              "      <th>class_id</th>\n",
              "      <th>student_id</th>\n",
              "      <th>chapter_number</th>\n",
              "      <th>construct</th>\n",
              "      <th>response</th>\n",
              "    </tr>\n",
              "  </thead>\n",
              "  <tbody>\n",
              "    <tr>\n",
              "      <th>0</th>\n",
              "      <td>College / Statistics and Data Science (ABC)</td>\n",
              "      <td>v5.0</td>\n",
              "      <td>04157183-8665-400a-925d-3bbb70ffe45e</td>\n",
              "      <td>afcb6b4e-a0c0-46ce-b38c-c96329c91471</td>\n",
              "      <td>953768c5-32fa-4190-8fee-1da82d8710bc</td>\n",
              "      <td>10</td>\n",
              "      <td>Cost</td>\n",
              "      <td>NaN</td>\n",
              "    </tr>\n",
              "    <tr>\n",
              "      <th>1</th>\n",
              "      <td>College / Statistics and Data Science (ABC)</td>\n",
              "      <td>v5.0</td>\n",
              "      <td>04157183-8665-400a-925d-3bbb70ffe45e</td>\n",
              "      <td>afcb6b4e-a0c0-46ce-b38c-c96329c91471</td>\n",
              "      <td>953768c5-32fa-4190-8fee-1da82d8710bc</td>\n",
              "      <td>11</td>\n",
              "      <td>Cost</td>\n",
              "      <td>NaN</td>\n",
              "    </tr>\n",
              "    <tr>\n",
              "      <th>2</th>\n",
              "      <td>College / Statistics and Data Science (ABC)</td>\n",
              "      <td>v5.0</td>\n",
              "      <td>04157183-8665-400a-925d-3bbb70ffe45e</td>\n",
              "      <td>afcb6b4e-a0c0-46ce-b38c-c96329c91471</td>\n",
              "      <td>953768c5-32fa-4190-8fee-1da82d8710bc</td>\n",
              "      <td>12</td>\n",
              "      <td>Cost</td>\n",
              "      <td>NaN</td>\n",
              "    </tr>\n",
              "    <tr>\n",
              "      <th>3</th>\n",
              "      <td>College / Statistics and Data Science (ABC)</td>\n",
              "      <td>v5.0</td>\n",
              "      <td>04157183-8665-400a-925d-3bbb70ffe45e</td>\n",
              "      <td>afcb6b4e-a0c0-46ce-b38c-c96329c91471</td>\n",
              "      <td>953768c5-32fa-4190-8fee-1da82d8710bc</td>\n",
              "      <td>2</td>\n",
              "      <td>Cost</td>\n",
              "      <td>2.0</td>\n",
              "    </tr>\n",
              "    <tr>\n",
              "      <th>4</th>\n",
              "      <td>College / Statistics and Data Science (ABC)</td>\n",
              "      <td>v5.0</td>\n",
              "      <td>04157183-8665-400a-925d-3bbb70ffe45e</td>\n",
              "      <td>afcb6b4e-a0c0-46ce-b38c-c96329c91471</td>\n",
              "      <td>953768c5-32fa-4190-8fee-1da82d8710bc</td>\n",
              "      <td>3</td>\n",
              "      <td>Cost</td>\n",
              "      <td>2.0</td>\n",
              "    </tr>\n",
              "  </tbody>\n",
              "</table>\n",
              "</div>\n",
              "    <div class=\"colab-df-buttons\">\n",
              "\n",
              "  <div class=\"colab-df-container\">\n",
              "    <button class=\"colab-df-convert\" onclick=\"convertToInteractive('df-57d2d666-9dd9-4ae1-9407-81eb294a983e')\"\n",
              "            title=\"Convert this dataframe to an interactive table.\"\n",
              "            style=\"display:none;\">\n",
              "\n",
              "  <svg xmlns=\"http://www.w3.org/2000/svg\" height=\"24px\" viewBox=\"0 -960 960 960\">\n",
              "    <path d=\"M120-120v-720h720v720H120Zm60-500h600v-160H180v160Zm220 220h160v-160H400v160Zm0 220h160v-160H400v160ZM180-400h160v-160H180v160Zm440 0h160v-160H620v160ZM180-180h160v-160H180v160Zm440 0h160v-160H620v160Z\"/>\n",
              "  </svg>\n",
              "    </button>\n",
              "\n",
              "  <style>\n",
              "    .colab-df-container {\n",
              "      display:flex;\n",
              "      gap: 12px;\n",
              "    }\n",
              "\n",
              "    .colab-df-convert {\n",
              "      background-color: #E8F0FE;\n",
              "      border: none;\n",
              "      border-radius: 50%;\n",
              "      cursor: pointer;\n",
              "      display: none;\n",
              "      fill: #1967D2;\n",
              "      height: 32px;\n",
              "      padding: 0 0 0 0;\n",
              "      width: 32px;\n",
              "    }\n",
              "\n",
              "    .colab-df-convert:hover {\n",
              "      background-color: #E2EBFA;\n",
              "      box-shadow: 0px 1px 2px rgba(60, 64, 67, 0.3), 0px 1px 3px 1px rgba(60, 64, 67, 0.15);\n",
              "      fill: #174EA6;\n",
              "    }\n",
              "\n",
              "    .colab-df-buttons div {\n",
              "      margin-bottom: 4px;\n",
              "    }\n",
              "\n",
              "    [theme=dark] .colab-df-convert {\n",
              "      background-color: #3B4455;\n",
              "      fill: #D2E3FC;\n",
              "    }\n",
              "\n",
              "    [theme=dark] .colab-df-convert:hover {\n",
              "      background-color: #434B5C;\n",
              "      box-shadow: 0px 1px 3px 1px rgba(0, 0, 0, 0.15);\n",
              "      filter: drop-shadow(0px 1px 2px rgba(0, 0, 0, 0.3));\n",
              "      fill: #FFFFFF;\n",
              "    }\n",
              "  </style>\n",
              "\n",
              "    <script>\n",
              "      const buttonEl =\n",
              "        document.querySelector('#df-57d2d666-9dd9-4ae1-9407-81eb294a983e button.colab-df-convert');\n",
              "      buttonEl.style.display =\n",
              "        google.colab.kernel.accessAllowed ? 'block' : 'none';\n",
              "\n",
              "      async function convertToInteractive(key) {\n",
              "        const element = document.querySelector('#df-57d2d666-9dd9-4ae1-9407-81eb294a983e');\n",
              "        const dataTable =\n",
              "          await google.colab.kernel.invokeFunction('convertToInteractive',\n",
              "                                                    [key], {});\n",
              "        if (!dataTable) return;\n",
              "\n",
              "        const docLinkHtml = 'Like what you see? Visit the ' +\n",
              "          '<a target=\"_blank\" href=https://colab.research.google.com/notebooks/data_table.ipynb>data table notebook</a>'\n",
              "          + ' to learn more about interactive tables.';\n",
              "        element.innerHTML = '';\n",
              "        dataTable['output_type'] = 'display_data';\n",
              "        await google.colab.output.renderOutput(dataTable, element);\n",
              "        const docLink = document.createElement('div');\n",
              "        docLink.innerHTML = docLinkHtml;\n",
              "        element.appendChild(docLink);\n",
              "      }\n",
              "    </script>\n",
              "  </div>\n",
              "\n",
              "\n",
              "<div id=\"df-93355533-31c4-4f88-a4cb-7006dc9c587d\">\n",
              "  <button class=\"colab-df-quickchart\" onclick=\"quickchart('df-93355533-31c4-4f88-a4cb-7006dc9c587d')\"\n",
              "            title=\"Suggest charts\"\n",
              "            style=\"display:none;\">\n",
              "\n",
              "<svg xmlns=\"http://www.w3.org/2000/svg\" height=\"24px\"viewBox=\"0 0 24 24\"\n",
              "     width=\"24px\">\n",
              "    <g>\n",
              "        <path d=\"M19 3H5c-1.1 0-2 .9-2 2v14c0 1.1.9 2 2 2h14c1.1 0 2-.9 2-2V5c0-1.1-.9-2-2-2zM9 17H7v-7h2v7zm4 0h-2V7h2v10zm4 0h-2v-4h2v4z\"/>\n",
              "    </g>\n",
              "</svg>\n",
              "  </button>\n",
              "\n",
              "<style>\n",
              "  .colab-df-quickchart {\n",
              "      --bg-color: #E8F0FE;\n",
              "      --fill-color: #1967D2;\n",
              "      --hover-bg-color: #E2EBFA;\n",
              "      --hover-fill-color: #174EA6;\n",
              "      --disabled-fill-color: #AAA;\n",
              "      --disabled-bg-color: #DDD;\n",
              "  }\n",
              "\n",
              "  [theme=dark] .colab-df-quickchart {\n",
              "      --bg-color: #3B4455;\n",
              "      --fill-color: #D2E3FC;\n",
              "      --hover-bg-color: #434B5C;\n",
              "      --hover-fill-color: #FFFFFF;\n",
              "      --disabled-bg-color: #3B4455;\n",
              "      --disabled-fill-color: #666;\n",
              "  }\n",
              "\n",
              "  .colab-df-quickchart {\n",
              "    background-color: var(--bg-color);\n",
              "    border: none;\n",
              "    border-radius: 50%;\n",
              "    cursor: pointer;\n",
              "    display: none;\n",
              "    fill: var(--fill-color);\n",
              "    height: 32px;\n",
              "    padding: 0;\n",
              "    width: 32px;\n",
              "  }\n",
              "\n",
              "  .colab-df-quickchart:hover {\n",
              "    background-color: var(--hover-bg-color);\n",
              "    box-shadow: 0 1px 2px rgba(60, 64, 67, 0.3), 0 1px 3px 1px rgba(60, 64, 67, 0.15);\n",
              "    fill: var(--button-hover-fill-color);\n",
              "  }\n",
              "\n",
              "  .colab-df-quickchart-complete:disabled,\n",
              "  .colab-df-quickchart-complete:disabled:hover {\n",
              "    background-color: var(--disabled-bg-color);\n",
              "    fill: var(--disabled-fill-color);\n",
              "    box-shadow: none;\n",
              "  }\n",
              "\n",
              "  .colab-df-spinner {\n",
              "    border: 2px solid var(--fill-color);\n",
              "    border-color: transparent;\n",
              "    border-bottom-color: var(--fill-color);\n",
              "    animation:\n",
              "      spin 1s steps(1) infinite;\n",
              "  }\n",
              "\n",
              "  @keyframes spin {\n",
              "    0% {\n",
              "      border-color: transparent;\n",
              "      border-bottom-color: var(--fill-color);\n",
              "      border-left-color: var(--fill-color);\n",
              "    }\n",
              "    20% {\n",
              "      border-color: transparent;\n",
              "      border-left-color: var(--fill-color);\n",
              "      border-top-color: var(--fill-color);\n",
              "    }\n",
              "    30% {\n",
              "      border-color: transparent;\n",
              "      border-left-color: var(--fill-color);\n",
              "      border-top-color: var(--fill-color);\n",
              "      border-right-color: var(--fill-color);\n",
              "    }\n",
              "    40% {\n",
              "      border-color: transparent;\n",
              "      border-right-color: var(--fill-color);\n",
              "      border-top-color: var(--fill-color);\n",
              "    }\n",
              "    60% {\n",
              "      border-color: transparent;\n",
              "      border-right-color: var(--fill-color);\n",
              "    }\n",
              "    80% {\n",
              "      border-color: transparent;\n",
              "      border-right-color: var(--fill-color);\n",
              "      border-bottom-color: var(--fill-color);\n",
              "    }\n",
              "    90% {\n",
              "      border-color: transparent;\n",
              "      border-bottom-color: var(--fill-color);\n",
              "    }\n",
              "  }\n",
              "</style>\n",
              "\n",
              "  <script>\n",
              "    async function quickchart(key) {\n",
              "      const quickchartButtonEl =\n",
              "        document.querySelector('#' + key + ' button');\n",
              "      quickchartButtonEl.disabled = true;  // To prevent multiple clicks.\n",
              "      quickchartButtonEl.classList.add('colab-df-spinner');\n",
              "      try {\n",
              "        const charts = await google.colab.kernel.invokeFunction(\n",
              "            'suggestCharts', [key], {});\n",
              "      } catch (error) {\n",
              "        console.error('Error during call to suggestCharts:', error);\n",
              "      }\n",
              "      quickchartButtonEl.classList.remove('colab-df-spinner');\n",
              "      quickchartButtonEl.classList.add('colab-df-quickchart-complete');\n",
              "    }\n",
              "    (() => {\n",
              "      let quickchartButtonEl =\n",
              "        document.querySelector('#df-93355533-31c4-4f88-a4cb-7006dc9c587d button');\n",
              "      quickchartButtonEl.style.display =\n",
              "        google.colab.kernel.accessAllowed ? 'block' : 'none';\n",
              "    })();\n",
              "  </script>\n",
              "</div>\n",
              "\n",
              "    </div>\n",
              "  </div>\n"
            ],
            "application/vnd.google.colaboratory.intrinsic+json": {
              "type": "dataframe",
              "variable_name": "df",
              "summary": "{\n  \"name\": \"df\",\n  \"rows\": 11712,\n  \"fields\": [\n    {\n      \"column\": \"book\",\n      \"properties\": {\n        \"dtype\": \"category\",\n        \"num_unique_values\": 3,\n        \"samples\": [\n          \"College / Statistics and Data Science (ABC)\",\n          \"College / Advanced Statistics and Data Science (ABCD)\",\n          \"High School / Advanced Statistics and Data Science I (ABC)\"\n        ],\n        \"semantic_type\": \"\",\n        \"description\": \"\"\n      }\n    },\n    {\n      \"column\": \"release\",\n      \"properties\": {\n        \"dtype\": \"category\",\n        \"num_unique_values\": 5,\n        \"samples\": [\n          \"v5.0-exp1\",\n          \"v5.2\",\n          \"v5.0-exp2\"\n        ],\n        \"semantic_type\": \"\",\n        \"description\": \"\"\n      }\n    },\n    {\n      \"column\": \"institution_id\",\n      \"properties\": {\n        \"dtype\": \"category\",\n        \"num_unique_values\": 10,\n        \"samples\": [\n          \"f17495c5-e105-492d-878a-07a03ea3f805\",\n          \"292cff87-3c74-4e94-8622-233afb0427dd\",\n          \"97aebe75-a051-4bff-a2c0-1d53eb5d9498\"\n        ],\n        \"semantic_type\": \"\",\n        \"description\": \"\"\n      }\n    },\n    {\n      \"column\": \"class_id\",\n      \"properties\": {\n        \"dtype\": \"category\",\n        \"num_unique_values\": 44,\n        \"samples\": [\n          \"9fad0c9e-9d3d-4eed-ada6-3959bd6d712c\",\n          \"9bdf8bfc-9998-4fd8-85d2-70c91cf94891\",\n          \"b1421b49-4026-4c61-9786-d4ef110c8db3\"\n        ],\n        \"semantic_type\": \"\",\n        \"description\": \"\"\n      }\n    },\n    {\n      \"column\": \"student_id\",\n      \"properties\": {\n        \"dtype\": \"category\",\n        \"num_unique_values\": 238,\n        \"samples\": [\n          \"e6cbdadb-c6f7-4b7f-b03b-9ddfb5aedf1e\",\n          \"8476c87b-dc78-41cc-beb0-0d278e230671\",\n          \"198a38f3-1cf8-4d24-af3d-30417f8adad6\"\n        ],\n        \"semantic_type\": \"\",\n        \"description\": \"\"\n      }\n    },\n    {\n      \"column\": \"chapter_number\",\n      \"properties\": {\n        \"dtype\": \"number\",\n        \"std\": 3,\n        \"min\": 2,\n        \"max\": 13,\n        \"num_unique_values\": 12,\n        \"samples\": [\n          9,\n          8,\n          10\n        ],\n        \"semantic_type\": \"\",\n        \"description\": \"\"\n      }\n    },\n    {\n      \"column\": \"construct\",\n      \"properties\": {\n        \"dtype\": \"category\",\n        \"num_unique_values\": 4,\n        \"samples\": [\n          \"Expectancy\",\n          \"Utility Value\",\n          \"Cost\"\n        ],\n        \"semantic_type\": \"\",\n        \"description\": \"\"\n      }\n    },\n    {\n      \"column\": \"response\",\n      \"properties\": {\n        \"dtype\": \"number\",\n        \"std\": 1.2769010446951028,\n        \"min\": 1.0,\n        \"max\": 6.0,\n        \"num_unique_values\": 6,\n        \"samples\": [\n          2.0,\n          5.0,\n          3.0\n        ],\n        \"semantic_type\": \"\",\n        \"description\": \"\"\n      }\n    }\n  ]\n}"
            }
          },
          "metadata": {},
          "execution_count": 4
        }
      ]
    },
    {
      "cell_type": "code",
      "source": [
        "df[\"student_id\"].unique()"
      ],
      "metadata": {
        "id": "OP2ckamvCyqj",
        "colab": {
          "base_uri": "https://localhost:8080/"
        },
        "outputId": "24e255f9-4ab1-40c5-9ea6-97e414097c4b"
      },
      "execution_count": null,
      "outputs": [
        {
          "output_type": "execute_result",
          "data": {
            "text/plain": [
              "array(['953768c5-32fa-4190-8fee-1da82d8710bc',\n",
              "       '988aaef5-55d8-4efd-a2aa-8a17e687965e',\n",
              "       '001824fb-a2fd-431d-aef6-7a1250d97a62',\n",
              "       '0f122889-830d-40c1-a6f8-f432cb327190',\n",
              "       '1ded6d19-2b2d-4955-abaa-22d1ff8bd64f',\n",
              "       '21845586-ddf6-41ce-ae8a-e7f8083e0493',\n",
              "       '2b52c7c7-844f-4e84-9007-203a1b72e96b',\n",
              "       '39294026-ddd1-4223-b5f9-8bc3bdccac20',\n",
              "       '4215e6c8-a500-4c45-94f0-3c6d60134908',\n",
              "       '43d7e2c8-3067-481e-9fec-4a39e09dc09e',\n",
              "       '4f025cde-00fb-4c70-907f-5106446d9b5b',\n",
              "       '4f641e9f-c36e-4afa-9043-3e5ab287201c',\n",
              "       '7258a4d9-3c15-49e0-a185-713f9f04510a',\n",
              "       '78ccab12-8733-4772-a2e0-17c7e68a69d6',\n",
              "       '8380ec3e-2ae9-4551-b44a-376b5b79929b',\n",
              "       '8476c87b-dc78-41cc-beb0-0d278e230671',\n",
              "       '91d84b86-36b4-4bba-8cb2-b70e2c39aa6a',\n",
              "       '9964e63b-8515-4c8d-8e0f-b3d0a58b0e96',\n",
              "       '99d7589c-83a6-4b51-8191-30323f8f544c',\n",
              "       '9cba7a76-428f-45f6-aa2f-2c2e6fd5d342',\n",
              "       '9e8c9433-b709-44f8-90e0-52e5889f778e',\n",
              "       'a446e23a-ace7-4cb4-b630-9f50a52248fe',\n",
              "       'a82791eb-61d5-4496-a7b8-d8112e081649',\n",
              "       'a84ff79f-209e-409e-b5c8-e272b6f5ac74',\n",
              "       'ade53c84-f641-46a7-8789-8ffaf230bd25',\n",
              "       'c8490b35-10c6-4655-a810-2a7c023e8dfa',\n",
              "       'd92a6267-7fbb-4b28-846c-8f32228c5e0d',\n",
              "       'de0b62ec-112f-45d0-a179-12425c433a34',\n",
              "       'ef0ecb24-ca4c-4c43-94fc-4b9a15f38042',\n",
              "       'f1733a31-055f-4c38-92c1-3f294ba94c35',\n",
              "       'f2a07470-550d-4584-a72f-95643e0d8805',\n",
              "       'fb7c9a8b-7b0c-4907-90c1-3a6e5230b486',\n",
              "       'fc8583cc-315d-4240-a516-ab7e4640ccaa',\n",
              "       '11e431e6-8a15-491b-9185-134929ce310a',\n",
              "       '1acec420-e195-4556-b6c8-a424596b23e2',\n",
              "       '3a38e166-0ef2-4df3-831a-28c0135244e2',\n",
              "       '5e037301-b06b-4b91-896b-fa411d055f7e',\n",
              "       'fc61b68e-ee2f-4200-8e91-bb961fc76658',\n",
              "       '041a771b-41cc-4b36-928d-ec321f918db5',\n",
              "       '04347fe5-e55a-4adc-86f2-a156ddfcfc13',\n",
              "       '05588964-8577-4b9f-9a5e-ddb770184d3c',\n",
              "       '0780b2c5-b260-4a31-816e-e91ce8b403a0',\n",
              "       '0a8f8e66-5a3b-45c6-941b-ea77d27fd63f',\n",
              "       '0d5d3654-7d7e-4da2-aff1-fe5405dfca9d',\n",
              "       '1199445a-8ff0-4b86-bb37-a1e1420e32e9',\n",
              "       '1a9153c5-3b1e-48fb-8db2-41a2de91d3d2',\n",
              "       '1bacdb33-5165-44c1-9aa5-b6a904e6c463',\n",
              "       '1bf8f1f2-fbdd-4e08-9f12-daa182d154c3',\n",
              "       '2e2f4cdc-2ebc-432a-bfbd-0666164df7ea',\n",
              "       '307d6460-4aad-4506-8a3e-070384b819aa',\n",
              "       '30929ccd-7625-4d58-8e4a-005f264e5531',\n",
              "       '3d384708-5fbe-4afb-bfa2-8fabcec34065',\n",
              "       '5366fd5d-8560-4a7a-ab1d-6cd27ed96bef',\n",
              "       '5f7fe619-a646-4f06-8f8c-fcf4dc9270c7',\n",
              "       '646acd2f-5a8b-4629-b753-faff3ff49b8c',\n",
              "       '700f3799-7977-438d-9e4b-68d1697a5887',\n",
              "       '88a982b7-be6d-471e-b943-60b4be63cf23',\n",
              "       'a22f97f0-f465-481f-8214-bb9abbd2de65',\n",
              "       'ad3c8d11-b356-4b49-b6d1-1f9329b82a4f',\n",
              "       'ba593149-8b3c-4e1e-8df9-2b470c49a4f4',\n",
              "       'ceacd30b-36ff-413e-9d7d-c389ad5086cf',\n",
              "       'd1f06dc8-661f-4e3c-95b7-b35b94aa251f',\n",
              "       'dc28e7ae-4a4a-494c-bffa-a7036fff14cb',\n",
              "       'deb2f50b-fdc8-48f2-9795-248efffd658e',\n",
              "       'ed4e4f76-c1a3-4887-ad22-0ab932bbdf15',\n",
              "       'f1374d2a-bd61-4575-8272-f20ee051ce6f',\n",
              "       'f4a10383-174f-4ca6-b7a0-1150d9e591e3',\n",
              "       'f7502c1b-c208-4f3c-85e4-726e19e9f618',\n",
              "       '08929fc3-2331-4c9a-bd15-68147ea87d01',\n",
              "       '1cd70566-0dbb-4bb3-9f76-0832b5bbf315',\n",
              "       '450f11fa-40c9-4c47-8bbe-4d0652d4b208',\n",
              "       '5e159a97-62b3-4234-9b9d-baf15ef2d596',\n",
              "       '5f7aee38-fac6-4ddb-9c0f-38a5e2706d66',\n",
              "       '6b8d3a30-7ae3-439e-a181-faabe152bc35',\n",
              "       '75ea7e17-f832-4aa5-a225-4dbe88b5b6c6',\n",
              "       '8c196e62-1ddb-4162-8a82-8225e877f078',\n",
              "       '941ca60f-18fc-4321-a257-c6a656e1b5ec',\n",
              "       '9c4008ad-9e93-4205-b748-5655f3ba1e82',\n",
              "       'a085ec52-a73b-4732-92ee-0c574574937c',\n",
              "       'b27c4bb0-a7ba-4039-bdf3-915166f94b46',\n",
              "       'cce1092c-18e7-4698-8494-7e7a6ae5c695',\n",
              "       'd8162b25-20f6-438f-aa87-cd909db84d9d',\n",
              "       'df3d5806-6ccb-4711-96e0-eb91f30b6c2a',\n",
              "       'f6048ebc-5baf-42f1-8faf-da4a4a2c20d8',\n",
              "       '045d0e87-585c-4126-a2c0-c744effb11b2',\n",
              "       '0a1c6dbe-74fc-4984-9721-f301535753a4',\n",
              "       '31d04217-5986-445f-b0f3-af0edab6f965',\n",
              "       '4f373008-0898-4283-be66-e9bf89e291c5',\n",
              "       '8181343d-1439-431e-b509-a51048e05b37',\n",
              "       '9bec904c-7776-4560-b600-45fbcebe7ad9',\n",
              "       'a75c4d5d-1e93-4e17-b485-841464261b98',\n",
              "       'a7c8635d-ceb3-4dc2-a1f8-938fdeeac2ff',\n",
              "       'b607db1a-f141-44cd-b1c9-6374aa2d2ca0',\n",
              "       'b713f1de-4ca3-4b85-9910-6d31c49a9e7d',\n",
              "       'b8d212bf-8c9d-4368-b5d1-87c859ed8766',\n",
              "       'bbd6be62-432a-4e0b-b1f2-87e234968b8c',\n",
              "       'c189d1aa-2a19-4a55-822d-9e5022fdf89e',\n",
              "       'c8157401-f787-4ea2-b805-285979fbe8a3',\n",
              "       'dc0157d5-b5b5-4100-9e67-2fb4dcaa08f9',\n",
              "       'e659a90c-eb0d-4b53-8672-40c622af6176',\n",
              "       '175dc771-9442-4269-9507-9066fa4650cc',\n",
              "       '2e7968fe-6970-4a4e-b800-0d38c88ae8e3',\n",
              "       '45a6b32e-d1d3-415b-8c8b-1fa5edb165f0',\n",
              "       '4a31f6e9-8f0a-4032-bc80-81192396eb65',\n",
              "       '54dcc1b6-74a9-48d4-9658-a276c93bb401',\n",
              "       '6283ab65-ed00-401a-b069-4fc094184c8f',\n",
              "       '64de2798-5534-4ef8-8254-6d3bcf8d2008',\n",
              "       '8746989a-5b4f-454d-a185-7fb0b9411e3f',\n",
              "       'a06314f1-64f4-433d-984c-c0a614187ca1',\n",
              "       'a21ac54a-e190-486c-b805-c83b89589f2a',\n",
              "       'b0966f14-dab9-4592-9d64-81bb9a34d0ea',\n",
              "       'b8b53c0a-ca6b-4aa0-8ad9-f6be31b7b103',\n",
              "       'c0a54432-3243-455e-8daa-7d59680ef098',\n",
              "       'c26105d2-1433-497f-9d5d-f4bdb203e8d8',\n",
              "       'c532035b-8ce2-4b99-aa9e-2f049d8d6fe7',\n",
              "       'e6cbdadb-c6f7-4b7f-b03b-9ddfb5aedf1e',\n",
              "       'ef164b41-44e0-42d6-9720-77447fb36c9c',\n",
              "       'f1df3150-ad4c-480e-b3ef-e3494116401d',\n",
              "       'fcdfb64b-0dd7-4839-a76d-1bd3d688d5c0',\n",
              "       '108b5ee7-3cab-468b-b937-535d91da2fd5',\n",
              "       '13c81022-6492-4e54-b7a0-68a399bc6433',\n",
              "       '2ed350ca-ed46-4157-9383-52299f08733b',\n",
              "       '37309374-d137-4976-93a8-a2f6b2734a98',\n",
              "       '68f0cd94-0fc9-4733-af79-c26a9fb29cb8',\n",
              "       'ba3742da-9d4c-42e9-a0d9-54657ab8c63c',\n",
              "       'c5889045-7b70-48aa-839f-873234b4af3d',\n",
              "       'c740b979-9c1c-4f21-86c7-08ec9ea775b0',\n",
              "       'cd6e760d-a5e0-4465-aaa7-51357411939d',\n",
              "       'dec3cb78-80e0-4ead-b700-404b79b49364',\n",
              "       'eb335ed5-ab36-445a-82c3-5d6c66c6720c',\n",
              "       'ec885cdc-ca08-42b0-b9a9-550dd93d5d60',\n",
              "       'f7644934-82d7-4152-a3da-350b61cda449',\n",
              "       'dec5f39b-417c-425e-a9a4-b884d2ecf9df',\n",
              "       '2ec781e1-67c7-4f28-bc26-1aa46bd20f08',\n",
              "       'e11a5b5c-08d3-423b-b209-fcb1cc7e08e6',\n",
              "       'e58e50e9-32aa-4d7b-977c-da82672bb770',\n",
              "       '21021cae-d56f-4842-8cb3-9bf2c6ee5605',\n",
              "       '2995b8ed-3884-4ccb-a57e-f1003f786842',\n",
              "       '4b52e603-0b9d-47b9-b773-6c72a124d3ed',\n",
              "       '4bba8ed7-c2ef-4c14-bf3e-002ecb658f38',\n",
              "       '8f3faf8d-8c56-4587-81c4-d6eb2cc5a4c7',\n",
              "       '52748e18-912e-4333-a972-7df6729bfeeb',\n",
              "       '5b8ceb46-121c-43a0-ab0c-35c5a2206228',\n",
              "       '70187206-eac7-4629-89d4-8078b7b94f24',\n",
              "       '4659a6e7-e9c3-440e-8bdf-6ec471343545',\n",
              "       '7244914f-524d-48c5-a08b-f2be96408fab',\n",
              "       '4c647bf3-034a-4392-bd99-ce89315a4ec5',\n",
              "       'a0a2a14c-b346-4036-853e-a8fef3bd66c9',\n",
              "       '42b2f919-79ef-4788-9e5d-3120bf01cc6a',\n",
              "       'ebd864a2-0af6-43a4-a47a-e021c70dc264',\n",
              "       '69824590-c804-4192-9fcf-9351613a158b',\n",
              "       '8aee549c-5e83-4290-8ad6-2b963120494f',\n",
              "       '954a8fb7-4c39-4fca-b790-b246b3c1aa5b',\n",
              "       'ef0b1887-6426-4b30-b14d-e49c2cf0e186',\n",
              "       'fef083e8-7167-4f42-82d5-d2e893aa408a',\n",
              "       '72419be6-b3b7-4ceb-8361-ad1cc116eb98',\n",
              "       '2eac3fe9-ff5f-405a-90ed-a3b959949151',\n",
              "       '9bc5dcd2-8f6b-4d70-918e-ad5d0f795ce6',\n",
              "       '3973b992-231b-43a0-9714-b99ab8746bd1',\n",
              "       '9ec4564b-0c65-451f-b7e1-c1995510807a',\n",
              "       'ac13b578-75c4-41fe-9df7-31b1d89398fb',\n",
              "       'fe5182ec-6732-402e-91f6-a5ddec5107ba',\n",
              "       '15386729-e035-4922-b941-2bb8b3eb70f0',\n",
              "       '2a9bddd2-b04a-4fe4-853b-49f7c39f9fec',\n",
              "       '7a6bb46d-853d-4a49-ad6d-be434d9e8214',\n",
              "       'ca1fb910-04e1-40ba-8bbd-b414ce3db86b',\n",
              "       '514fadb4-f5d9-42c6-9e8a-62b366528365',\n",
              "       'f03fcac7-b005-4ba0-952e-b8616cbaa093',\n",
              "       '188d45ee-832d-40a6-bd57-05e97d88e631',\n",
              "       '2adc3510-b0ae-4949-9af6-a7b2dbff73ca',\n",
              "       '479eb527-639b-45b6-8ec8-504a56d7d51a',\n",
              "       '7166c5e7-b7ba-45b1-9482-cc457e2b0f2d',\n",
              "       '7b7a965e-de91-4b5c-b202-13708736c164',\n",
              "       '14a0030e-217f-4551-98db-66345ab60785',\n",
              "       '1e1d3c90-1f4d-4240-8b43-e878116ec701',\n",
              "       '27555eb7-efcd-4684-926b-b2a049652a8c',\n",
              "       '2b85a799-6e32-4591-b143-d809fb537f01',\n",
              "       '2ff33952-aac1-46f7-98e4-07402412eec3',\n",
              "       '681930c4-ab8a-4351-80c9-850b48ec790d',\n",
              "       '7f2ebf42-f862-4b53-9fb3-bc9c71d5024d',\n",
              "       'da78ff14-c12f-4fa0-b350-b3064eeebc9e',\n",
              "       '16ce31ff-ab83-4080-a785-67b2bf8ae86d',\n",
              "       'b1eb6772-de59-4d15-a2b6-520b1f010f82',\n",
              "       'd9672c2c-ada0-460d-8fe6-67e07e948607',\n",
              "       '1936cda8-c56d-4437-953a-df6718e0f4d1',\n",
              "       '1a9df18a-84a5-4fc6-b3c7-eef5fd3fc623',\n",
              "       '5c7d777b-45a7-4236-89fe-2f9861f2c0bf',\n",
              "       '81f6dd31-1427-4bf4-abaa-09f2ea49dd04',\n",
              "       'b05608c8-c017-4866-a214-5ee36a83fcb9',\n",
              "       '99dc401b-87b4-4bca-a87d-9f9049672d0e',\n",
              "       'af8dd73a-716a-4902-bc01-88e8e00df672',\n",
              "       'c0ae4eda-7838-48f7-bafb-9c7a56992453',\n",
              "       '18d39533-bac4-45a9-8cc7-a60bac80c11c',\n",
              "       '5b7c677f-bfbb-4517-b443-0ff916c85d24',\n",
              "       '7740fbdb-164c-44cd-abac-04a45f49c628',\n",
              "       'db04fb07-56d0-4e8e-8d14-b0a163f332e5',\n",
              "       'ee6ba316-e02e-458b-b0b8-a6935bce3b02',\n",
              "       '288cb6e5-e750-4164-946d-f72bdd63ae74',\n",
              "       '2dc53ab2-0169-4c9d-8b09-b9ee5abdcf41',\n",
              "       '309b4f39-d1a7-4a12-97f8-2c9fa2ad55bd',\n",
              "       '5431687b-78af-4a33-82d2-177263d0812b',\n",
              "       'cdff841b-378d-40e7-a2da-c64c3e967d5e',\n",
              "       'd47ebe3f-7ca4-4a7c-8e74-ad857af4160d',\n",
              "       '40ecbe87-9bed-4bb4-b78d-705c6af273f3',\n",
              "       '736605fe-b7c4-4cba-8261-0b319f63fac0',\n",
              "       'c4547da8-3466-4d63-9102-fa2d42ce28dd',\n",
              "       'd6ac90ed-560b-4f23-9052-d7890cf43963',\n",
              "       '11752721-25a2-4881-995f-cd319c9451c7',\n",
              "       'b5018344-94aa-47c1-931e-0bbe779d10c8',\n",
              "       'f2eb2e96-b02d-4eb3-9404-343e3f4d9d16',\n",
              "       '4a748280-132e-4c66-8ec6-c5ed052c3f8d',\n",
              "       'fdc4706b-6963-41e4-9a96-ce7b44b2dc46',\n",
              "       '198a38f3-1cf8-4d24-af3d-30417f8adad6',\n",
              "       '339ea252-7d31-4dc5-908b-c4a058ce393a',\n",
              "       '57d6907f-63d8-4900-a571-bc90456cd1d8',\n",
              "       '6bf771cc-98d9-4d66-9e95-3d5d794088e9',\n",
              "       '92ea331a-ce01-4d9c-ab8b-6ca9f089b6ac',\n",
              "       'b8590b9f-c0d9-4038-8cb2-b05b92bd478e',\n",
              "       'fd2a1c41-0bc1-47c6-8ab3-d238a9a648ef',\n",
              "       '3817a4ed-287f-449c-a2f4-dba0b9fa1d9e',\n",
              "       '41298b0f-7dd7-454f-b70d-0158babac7c1',\n",
              "       '54e79dbd-94ae-417f-8487-2a5c8d7e730d',\n",
              "       '87a2846c-5ad1-4ac1-ad40-46cf881fb13e',\n",
              "       'ba6795c8-1d5e-4d01-8ff9-ccd5b926a588',\n",
              "       'c7ebd263-85a4-48e7-83f5-80a12bd309f0',\n",
              "       '328dce3c-7ee3-4d7e-b2b4-b56844fd284f',\n",
              "       '7b7f8d1c-0859-428d-9c3a-6277989314ff',\n",
              "       'f77e9e18-7090-4e4a-af77-114505b29e97',\n",
              "       '32a0c3c0-41bf-4fcd-8668-3071bd775366',\n",
              "       '40f3353b-00c7-4667-a12d-7361194681a1',\n",
              "       '8f607314-e790-4df8-a82f-3a618bea07bd',\n",
              "       '9aa3aa85-eddd-4032-b7aa-5aa2c0e2f2fb',\n",
              "       'a51af53e-6e4c-4651-832d-e7349e808a6d',\n",
              "       'c308c6a7-533b-4c43-a048-26305a48aebf',\n",
              "       '124f8575-955c-4ace-9699-ec48bcb5f052',\n",
              "       '20d2c34d-4b13-4192-b98d-60166d36fddf',\n",
              "       '236c40f9-cdce-49fb-92e1-7221d7308003',\n",
              "       '358dde6e-b5ae-4fa4-898e-05cfff311129'], dtype=object)"
            ]
          },
          "metadata": {},
          "execution_count": 14
        }
      ]
    },
    {
      "cell_type": "code",
      "source": [
        "value_count = df[\"student_id\"].value_counts()"
      ],
      "metadata": {
        "id": "yppz5WbKCywt"
      },
      "execution_count": null,
      "outputs": []
    },
    {
      "cell_type": "code",
      "source": [
        "df.dtypes"
      ],
      "metadata": {
        "colab": {
          "base_uri": "https://localhost:8080/"
        },
        "id": "p4KrYnF6Cy1v",
        "outputId": "7cae6ed3-7bac-4fe0-a529-891accc7d139"
      },
      "execution_count": null,
      "outputs": [
        {
          "output_type": "execute_result",
          "data": {
            "text/plain": [
              "book               object\n",
              "release            object\n",
              "institution_id     object\n",
              "class_id           object\n",
              "student_id         object\n",
              "chapter_number      int64\n",
              "construct          object\n",
              "response          float64\n",
              "dtype: object"
            ]
          },
          "metadata": {},
          "execution_count": 17
        }
      ]
    },
    {
      "cell_type": "code",
      "source": [
        "grouped_df = df.groupby(['student_id', 'construct', 'chapter_number'])['response'].mean().reset_index()"
      ],
      "metadata": {
        "id": "q2ZJ9gThC08M"
      },
      "execution_count": null,
      "outputs": []
    },
    {
      "cell_type": "code",
      "source": [],
      "metadata": {
        "colab": {
          "base_uri": "https://localhost:8080/"
        },
        "id": "r_dBDKwDCzQb",
        "outputId": "6b079b7f-5844-477c-ff48-7fd5bd61ea1d"
      },
      "execution_count": null,
      "outputs": [
        {
          "output_type": "execute_result",
          "data": {
            "text/plain": [
              "array([ 2.,  4.,  5.,  3., nan,  1.,  6.])"
            ]
          },
          "metadata": {},
          "execution_count": 45
        }
      ]
    },
    {
      "cell_type": "code",
      "source": [
        "grouped_df.to_csv(\"grouped.csv\", index=False)"
      ],
      "metadata": {
        "id": "AD_xNmwLCzg4"
      },
      "execution_count": null,
      "outputs": []
    },
    {
      "cell_type": "code",
      "source": [
        "\n",
        "pivot_df = grouped_df.pivot_table(index=['student_id', 'chapter_number'], columns='construct', values='response').reset_index()"
      ],
      "metadata": {
        "id": "vOwAljHBCzpv"
      },
      "execution_count": null,
      "outputs": []
    },
    {
      "cell_type": "code",
      "source": [
        "pivot_df[\"Cost\"].unique()"
      ],
      "metadata": {
        "colab": {
          "base_uri": "https://localhost:8080/"
        },
        "id": "dWj0_N-rdgnj",
        "outputId": "37fe8a64-5673-4459-c331-a15184f051b1"
      },
      "execution_count": null,
      "outputs": [
        {
          "output_type": "execute_result",
          "data": {
            "text/plain": [
              "array([ 2.,  4.,  5.,  3.,  1., nan,  6.])"
            ]
          },
          "metadata": {},
          "execution_count": 21
        }
      ]
    },
    {
      "cell_type": "code",
      "source": [
        "pivot_df\n",
        "import dtale\n",
        "import dtale.app as dtale_app\n",
        "\n",
        "dtale_app.USE_COLAB = True\n",
        "dtale.show(pivot_df)"
      ],
      "metadata": {
        "colab": {
          "base_uri": "https://localhost:8080/",
          "height": 35
        },
        "id": "DUbn2aeBCzw3",
        "outputId": "250fb6bf-e8b6-4409-b5d1-dc35789e0cf2"
      },
      "execution_count": null,
      "outputs": [
        {
          "output_type": "execute_result",
          "data": {
            "text/plain": [
              "https://gw7a02sdvjb-496ff2e9c6d22116-40000-colab.googleusercontent.com/dtale/main/5"
            ]
          },
          "metadata": {},
          "execution_count": 30
        }
      ]
    },
    {
      "cell_type": "code",
      "source": [
        "pivot_df.to_csv(\"new_checkpoint_pulse.csv\", index=False)"
      ],
      "metadata": {
        "id": "o62Fg7MUCz3m"
      },
      "execution_count": null,
      "outputs": []
    },
    {
      "cell_type": "code",
      "source": [
        "responses = pd.read_csv(\"responses.csv\",  low_memory=False)\n",
        "responses.head(5)"
      ],
      "metadata": {
        "colab": {
          "base_uri": "https://localhost:8080/",
          "height": 863
        },
        "id": "pIXuwd-kCz96",
        "outputId": "0aeff5fc-10b8-419b-e953-4c28edf516b7"
      },
      "execution_count": null,
      "outputs": [
        {
          "output_type": "execute_result",
          "data": {
            "text/plain": [
              "                                                book    release  \\\n",
              "0  College / Advanced Statistics and Data Science...  v5.0-exp2   \n",
              "1  College / Advanced Statistics and Data Science...  v5.0-exp2   \n",
              "2  College / Advanced Statistics and Data Science...  v5.0-exp2   \n",
              "3  College / Advanced Statistics and Data Science...  v5.0-exp2   \n",
              "4  College / Advanced Statistics and Data Science...  v5.0-exp2   \n",
              "\n",
              "                                             chapter  \\\n",
              "0  Chapter 1 - Welcome to Statistics: A Modeling ...   \n",
              "1  Chapter 1 - Welcome to Statistics: A Modeling ...   \n",
              "2  Chapter 1 - Welcome to Statistics: A Modeling ...   \n",
              "3  Chapter 1 - Welcome to Statistics: A Modeling ...   \n",
              "4  Chapter 1 - Welcome to Statistics: A Modeling ...   \n",
              "\n",
              "                          page  chapter_number  section_number  review_flag  \\\n",
              "0  1.3 Doing Statistics with R               1               3        False   \n",
              "1  1.3 Doing Statistics with R               1               3        False   \n",
              "2  1.3 Doing Statistics with R               1               3        False   \n",
              "3  1.3 Doing Statistics with R               1               3        False   \n",
              "4  1.3 Doing Statistics with R               1               3        False   \n",
              "\n",
              "                         institution_id                              class_id  \\\n",
              "0  292cff87-3c74-4e94-8622-233afb0427dd  6fbf5a0a-cf5d-4567-89b5-eb5c4a16c4ab   \n",
              "1  292cff87-3c74-4e94-8622-233afb0427dd  6fbf5a0a-cf5d-4567-89b5-eb5c4a16c4ab   \n",
              "2  292cff87-3c74-4e94-8622-233afb0427dd  6fbf5a0a-cf5d-4567-89b5-eb5c4a16c4ab   \n",
              "3  292cff87-3c74-4e94-8622-233afb0427dd  6fbf5a0a-cf5d-4567-89b5-eb5c4a16c4ab   \n",
              "4  292cff87-3c74-4e94-8622-233afb0427dd  6fbf5a0a-cf5d-4567-89b5-eb5c4a16c4ab   \n",
              "\n",
              "                             student_id  ... lrn_option_2 lrn_option_3  \\\n",
              "0  0780b2c5-b260-4a31-816e-e91ce8b403a0  ...          NaN          NaN   \n",
              "1  ceacd30b-36ff-413e-9d7d-c389ad5086cf  ...          NaN          NaN   \n",
              "2  ba593149-8b3c-4e1e-8df9-2b470c49a4f4  ...          NaN          NaN   \n",
              "3  1bacdb33-5165-44c1-9aa5-b6a904e6c463  ...          NaN          NaN   \n",
              "4  646acd2f-5a8b-4629-b753-faff3ff49b8c  ...          NaN          NaN   \n",
              "\n",
              "  lrn_option_4 lrn_option_5  lrn_option_6  lrn_option_7 lrn_option_8  \\\n",
              "0          NaN          NaN           NaN           NaN          NaN   \n",
              "1          NaN          NaN           NaN           NaN          NaN   \n",
              "2          NaN          NaN           NaN           NaN          NaN   \n",
              "3          NaN          NaN           NaN           NaN          NaN   \n",
              "4          NaN          NaN           NaN           NaN          NaN   \n",
              "\n",
              "   lrn_option_9  lrn_option_10 lrn_option_11  \n",
              "0           NaN            NaN           NaN  \n",
              "1           NaN            NaN           NaN  \n",
              "2           NaN            NaN           NaN  \n",
              "3           NaN            NaN           NaN  \n",
              "4           NaN            NaN           NaN  \n",
              "\n",
              "[5 rows x 40 columns]"
            ],
            "text/html": [
              "\n",
              "  <div id=\"df-c3b0d91f-28be-46d0-a9fd-e6b9fa35d8ca\" class=\"colab-df-container\">\n",
              "    <div>\n",
              "<style scoped>\n",
              "    .dataframe tbody tr th:only-of-type {\n",
              "        vertical-align: middle;\n",
              "    }\n",
              "\n",
              "    .dataframe tbody tr th {\n",
              "        vertical-align: top;\n",
              "    }\n",
              "\n",
              "    .dataframe thead th {\n",
              "        text-align: right;\n",
              "    }\n",
              "</style>\n",
              "<table border=\"1\" class=\"dataframe\">\n",
              "  <thead>\n",
              "    <tr style=\"text-align: right;\">\n",
              "      <th></th>\n",
              "      <th>book</th>\n",
              "      <th>release</th>\n",
              "      <th>chapter</th>\n",
              "      <th>page</th>\n",
              "      <th>chapter_number</th>\n",
              "      <th>section_number</th>\n",
              "      <th>review_flag</th>\n",
              "      <th>institution_id</th>\n",
              "      <th>class_id</th>\n",
              "      <th>student_id</th>\n",
              "      <th>...</th>\n",
              "      <th>lrn_option_2</th>\n",
              "      <th>lrn_option_3</th>\n",
              "      <th>lrn_option_4</th>\n",
              "      <th>lrn_option_5</th>\n",
              "      <th>lrn_option_6</th>\n",
              "      <th>lrn_option_7</th>\n",
              "      <th>lrn_option_8</th>\n",
              "      <th>lrn_option_9</th>\n",
              "      <th>lrn_option_10</th>\n",
              "      <th>lrn_option_11</th>\n",
              "    </tr>\n",
              "  </thead>\n",
              "  <tbody>\n",
              "    <tr>\n",
              "      <th>0</th>\n",
              "      <td>College / Advanced Statistics and Data Science...</td>\n",
              "      <td>v5.0-exp2</td>\n",
              "      <td>Chapter 1 - Welcome to Statistics: A Modeling ...</td>\n",
              "      <td>1.3 Doing Statistics with R</td>\n",
              "      <td>1</td>\n",
              "      <td>3</td>\n",
              "      <td>False</td>\n",
              "      <td>292cff87-3c74-4e94-8622-233afb0427dd</td>\n",
              "      <td>6fbf5a0a-cf5d-4567-89b5-eb5c4a16c4ab</td>\n",
              "      <td>0780b2c5-b260-4a31-816e-e91ce8b403a0</td>\n",
              "      <td>...</td>\n",
              "      <td>NaN</td>\n",
              "      <td>NaN</td>\n",
              "      <td>NaN</td>\n",
              "      <td>NaN</td>\n",
              "      <td>NaN</td>\n",
              "      <td>NaN</td>\n",
              "      <td>NaN</td>\n",
              "      <td>NaN</td>\n",
              "      <td>NaN</td>\n",
              "      <td>NaN</td>\n",
              "    </tr>\n",
              "    <tr>\n",
              "      <th>1</th>\n",
              "      <td>College / Advanced Statistics and Data Science...</td>\n",
              "      <td>v5.0-exp2</td>\n",
              "      <td>Chapter 1 - Welcome to Statistics: A Modeling ...</td>\n",
              "      <td>1.3 Doing Statistics with R</td>\n",
              "      <td>1</td>\n",
              "      <td>3</td>\n",
              "      <td>False</td>\n",
              "      <td>292cff87-3c74-4e94-8622-233afb0427dd</td>\n",
              "      <td>6fbf5a0a-cf5d-4567-89b5-eb5c4a16c4ab</td>\n",
              "      <td>ceacd30b-36ff-413e-9d7d-c389ad5086cf</td>\n",
              "      <td>...</td>\n",
              "      <td>NaN</td>\n",
              "      <td>NaN</td>\n",
              "      <td>NaN</td>\n",
              "      <td>NaN</td>\n",
              "      <td>NaN</td>\n",
              "      <td>NaN</td>\n",
              "      <td>NaN</td>\n",
              "      <td>NaN</td>\n",
              "      <td>NaN</td>\n",
              "      <td>NaN</td>\n",
              "    </tr>\n",
              "    <tr>\n",
              "      <th>2</th>\n",
              "      <td>College / Advanced Statistics and Data Science...</td>\n",
              "      <td>v5.0-exp2</td>\n",
              "      <td>Chapter 1 - Welcome to Statistics: A Modeling ...</td>\n",
              "      <td>1.3 Doing Statistics with R</td>\n",
              "      <td>1</td>\n",
              "      <td>3</td>\n",
              "      <td>False</td>\n",
              "      <td>292cff87-3c74-4e94-8622-233afb0427dd</td>\n",
              "      <td>6fbf5a0a-cf5d-4567-89b5-eb5c4a16c4ab</td>\n",
              "      <td>ba593149-8b3c-4e1e-8df9-2b470c49a4f4</td>\n",
              "      <td>...</td>\n",
              "      <td>NaN</td>\n",
              "      <td>NaN</td>\n",
              "      <td>NaN</td>\n",
              "      <td>NaN</td>\n",
              "      <td>NaN</td>\n",
              "      <td>NaN</td>\n",
              "      <td>NaN</td>\n",
              "      <td>NaN</td>\n",
              "      <td>NaN</td>\n",
              "      <td>NaN</td>\n",
              "    </tr>\n",
              "    <tr>\n",
              "      <th>3</th>\n",
              "      <td>College / Advanced Statistics and Data Science...</td>\n",
              "      <td>v5.0-exp2</td>\n",
              "      <td>Chapter 1 - Welcome to Statistics: A Modeling ...</td>\n",
              "      <td>1.3 Doing Statistics with R</td>\n",
              "      <td>1</td>\n",
              "      <td>3</td>\n",
              "      <td>False</td>\n",
              "      <td>292cff87-3c74-4e94-8622-233afb0427dd</td>\n",
              "      <td>6fbf5a0a-cf5d-4567-89b5-eb5c4a16c4ab</td>\n",
              "      <td>1bacdb33-5165-44c1-9aa5-b6a904e6c463</td>\n",
              "      <td>...</td>\n",
              "      <td>NaN</td>\n",
              "      <td>NaN</td>\n",
              "      <td>NaN</td>\n",
              "      <td>NaN</td>\n",
              "      <td>NaN</td>\n",
              "      <td>NaN</td>\n",
              "      <td>NaN</td>\n",
              "      <td>NaN</td>\n",
              "      <td>NaN</td>\n",
              "      <td>NaN</td>\n",
              "    </tr>\n",
              "    <tr>\n",
              "      <th>4</th>\n",
              "      <td>College / Advanced Statistics and Data Science...</td>\n",
              "      <td>v5.0-exp2</td>\n",
              "      <td>Chapter 1 - Welcome to Statistics: A Modeling ...</td>\n",
              "      <td>1.3 Doing Statistics with R</td>\n",
              "      <td>1</td>\n",
              "      <td>3</td>\n",
              "      <td>False</td>\n",
              "      <td>292cff87-3c74-4e94-8622-233afb0427dd</td>\n",
              "      <td>6fbf5a0a-cf5d-4567-89b5-eb5c4a16c4ab</td>\n",
              "      <td>646acd2f-5a8b-4629-b753-faff3ff49b8c</td>\n",
              "      <td>...</td>\n",
              "      <td>NaN</td>\n",
              "      <td>NaN</td>\n",
              "      <td>NaN</td>\n",
              "      <td>NaN</td>\n",
              "      <td>NaN</td>\n",
              "      <td>NaN</td>\n",
              "      <td>NaN</td>\n",
              "      <td>NaN</td>\n",
              "      <td>NaN</td>\n",
              "      <td>NaN</td>\n",
              "    </tr>\n",
              "  </tbody>\n",
              "</table>\n",
              "<p>5 rows × 40 columns</p>\n",
              "</div>\n",
              "    <div class=\"colab-df-buttons\">\n",
              "\n",
              "  <div class=\"colab-df-container\">\n",
              "    <button class=\"colab-df-convert\" onclick=\"convertToInteractive('df-c3b0d91f-28be-46d0-a9fd-e6b9fa35d8ca')\"\n",
              "            title=\"Convert this dataframe to an interactive table.\"\n",
              "            style=\"display:none;\">\n",
              "\n",
              "  <svg xmlns=\"http://www.w3.org/2000/svg\" height=\"24px\" viewBox=\"0 -960 960 960\">\n",
              "    <path d=\"M120-120v-720h720v720H120Zm60-500h600v-160H180v160Zm220 220h160v-160H400v160Zm0 220h160v-160H400v160ZM180-400h160v-160H180v160Zm440 0h160v-160H620v160ZM180-180h160v-160H180v160Zm440 0h160v-160H620v160Z\"/>\n",
              "  </svg>\n",
              "    </button>\n",
              "\n",
              "  <style>\n",
              "    .colab-df-container {\n",
              "      display:flex;\n",
              "      gap: 12px;\n",
              "    }\n",
              "\n",
              "    .colab-df-convert {\n",
              "      background-color: #E8F0FE;\n",
              "      border: none;\n",
              "      border-radius: 50%;\n",
              "      cursor: pointer;\n",
              "      display: none;\n",
              "      fill: #1967D2;\n",
              "      height: 32px;\n",
              "      padding: 0 0 0 0;\n",
              "      width: 32px;\n",
              "    }\n",
              "\n",
              "    .colab-df-convert:hover {\n",
              "      background-color: #E2EBFA;\n",
              "      box-shadow: 0px 1px 2px rgba(60, 64, 67, 0.3), 0px 1px 3px 1px rgba(60, 64, 67, 0.15);\n",
              "      fill: #174EA6;\n",
              "    }\n",
              "\n",
              "    .colab-df-buttons div {\n",
              "      margin-bottom: 4px;\n",
              "    }\n",
              "\n",
              "    [theme=dark] .colab-df-convert {\n",
              "      background-color: #3B4455;\n",
              "      fill: #D2E3FC;\n",
              "    }\n",
              "\n",
              "    [theme=dark] .colab-df-convert:hover {\n",
              "      background-color: #434B5C;\n",
              "      box-shadow: 0px 1px 3px 1px rgba(0, 0, 0, 0.15);\n",
              "      filter: drop-shadow(0px 1px 2px rgba(0, 0, 0, 0.3));\n",
              "      fill: #FFFFFF;\n",
              "    }\n",
              "  </style>\n",
              "\n",
              "    <script>\n",
              "      const buttonEl =\n",
              "        document.querySelector('#df-c3b0d91f-28be-46d0-a9fd-e6b9fa35d8ca button.colab-df-convert');\n",
              "      buttonEl.style.display =\n",
              "        google.colab.kernel.accessAllowed ? 'block' : 'none';\n",
              "\n",
              "      async function convertToInteractive(key) {\n",
              "        const element = document.querySelector('#df-c3b0d91f-28be-46d0-a9fd-e6b9fa35d8ca');\n",
              "        const dataTable =\n",
              "          await google.colab.kernel.invokeFunction('convertToInteractive',\n",
              "                                                    [key], {});\n",
              "        if (!dataTable) return;\n",
              "\n",
              "        const docLinkHtml = 'Like what you see? Visit the ' +\n",
              "          '<a target=\"_blank\" href=https://colab.research.google.com/notebooks/data_table.ipynb>data table notebook</a>'\n",
              "          + ' to learn more about interactive tables.';\n",
              "        element.innerHTML = '';\n",
              "        dataTable['output_type'] = 'display_data';\n",
              "        await google.colab.output.renderOutput(dataTable, element);\n",
              "        const docLink = document.createElement('div');\n",
              "        docLink.innerHTML = docLinkHtml;\n",
              "        element.appendChild(docLink);\n",
              "      }\n",
              "    </script>\n",
              "  </div>\n",
              "\n",
              "\n",
              "<div id=\"df-08da243c-c490-4eb1-a486-90b39ba5ef0b\">\n",
              "  <button class=\"colab-df-quickchart\" onclick=\"quickchart('df-08da243c-c490-4eb1-a486-90b39ba5ef0b')\"\n",
              "            title=\"Suggest charts\"\n",
              "            style=\"display:none;\">\n",
              "\n",
              "<svg xmlns=\"http://www.w3.org/2000/svg\" height=\"24px\"viewBox=\"0 0 24 24\"\n",
              "     width=\"24px\">\n",
              "    <g>\n",
              "        <path d=\"M19 3H5c-1.1 0-2 .9-2 2v14c0 1.1.9 2 2 2h14c1.1 0 2-.9 2-2V5c0-1.1-.9-2-2-2zM9 17H7v-7h2v7zm4 0h-2V7h2v10zm4 0h-2v-4h2v4z\"/>\n",
              "    </g>\n",
              "</svg>\n",
              "  </button>\n",
              "\n",
              "<style>\n",
              "  .colab-df-quickchart {\n",
              "      --bg-color: #E8F0FE;\n",
              "      --fill-color: #1967D2;\n",
              "      --hover-bg-color: #E2EBFA;\n",
              "      --hover-fill-color: #174EA6;\n",
              "      --disabled-fill-color: #AAA;\n",
              "      --disabled-bg-color: #DDD;\n",
              "  }\n",
              "\n",
              "  [theme=dark] .colab-df-quickchart {\n",
              "      --bg-color: #3B4455;\n",
              "      --fill-color: #D2E3FC;\n",
              "      --hover-bg-color: #434B5C;\n",
              "      --hover-fill-color: #FFFFFF;\n",
              "      --disabled-bg-color: #3B4455;\n",
              "      --disabled-fill-color: #666;\n",
              "  }\n",
              "\n",
              "  .colab-df-quickchart {\n",
              "    background-color: var(--bg-color);\n",
              "    border: none;\n",
              "    border-radius: 50%;\n",
              "    cursor: pointer;\n",
              "    display: none;\n",
              "    fill: var(--fill-color);\n",
              "    height: 32px;\n",
              "    padding: 0;\n",
              "    width: 32px;\n",
              "  }\n",
              "\n",
              "  .colab-df-quickchart:hover {\n",
              "    background-color: var(--hover-bg-color);\n",
              "    box-shadow: 0 1px 2px rgba(60, 64, 67, 0.3), 0 1px 3px 1px rgba(60, 64, 67, 0.15);\n",
              "    fill: var(--button-hover-fill-color);\n",
              "  }\n",
              "\n",
              "  .colab-df-quickchart-complete:disabled,\n",
              "  .colab-df-quickchart-complete:disabled:hover {\n",
              "    background-color: var(--disabled-bg-color);\n",
              "    fill: var(--disabled-fill-color);\n",
              "    box-shadow: none;\n",
              "  }\n",
              "\n",
              "  .colab-df-spinner {\n",
              "    border: 2px solid var(--fill-color);\n",
              "    border-color: transparent;\n",
              "    border-bottom-color: var(--fill-color);\n",
              "    animation:\n",
              "      spin 1s steps(1) infinite;\n",
              "  }\n",
              "\n",
              "  @keyframes spin {\n",
              "    0% {\n",
              "      border-color: transparent;\n",
              "      border-bottom-color: var(--fill-color);\n",
              "      border-left-color: var(--fill-color);\n",
              "    }\n",
              "    20% {\n",
              "      border-color: transparent;\n",
              "      border-left-color: var(--fill-color);\n",
              "      border-top-color: var(--fill-color);\n",
              "    }\n",
              "    30% {\n",
              "      border-color: transparent;\n",
              "      border-left-color: var(--fill-color);\n",
              "      border-top-color: var(--fill-color);\n",
              "      border-right-color: var(--fill-color);\n",
              "    }\n",
              "    40% {\n",
              "      border-color: transparent;\n",
              "      border-right-color: var(--fill-color);\n",
              "      border-top-color: var(--fill-color);\n",
              "    }\n",
              "    60% {\n",
              "      border-color: transparent;\n",
              "      border-right-color: var(--fill-color);\n",
              "    }\n",
              "    80% {\n",
              "      border-color: transparent;\n",
              "      border-right-color: var(--fill-color);\n",
              "      border-bottom-color: var(--fill-color);\n",
              "    }\n",
              "    90% {\n",
              "      border-color: transparent;\n",
              "      border-bottom-color: var(--fill-color);\n",
              "    }\n",
              "  }\n",
              "</style>\n",
              "\n",
              "  <script>\n",
              "    async function quickchart(key) {\n",
              "      const quickchartButtonEl =\n",
              "        document.querySelector('#' + key + ' button');\n",
              "      quickchartButtonEl.disabled = true;  // To prevent multiple clicks.\n",
              "      quickchartButtonEl.classList.add('colab-df-spinner');\n",
              "      try {\n",
              "        const charts = await google.colab.kernel.invokeFunction(\n",
              "            'suggestCharts', [key], {});\n",
              "      } catch (error) {\n",
              "        console.error('Error during call to suggestCharts:', error);\n",
              "      }\n",
              "      quickchartButtonEl.classList.remove('colab-df-spinner');\n",
              "      quickchartButtonEl.classList.add('colab-df-quickchart-complete');\n",
              "    }\n",
              "    (() => {\n",
              "      let quickchartButtonEl =\n",
              "        document.querySelector('#df-08da243c-c490-4eb1-a486-90b39ba5ef0b button');\n",
              "      quickchartButtonEl.style.display =\n",
              "        google.colab.kernel.accessAllowed ? 'block' : 'none';\n",
              "    })();\n",
              "  </script>\n",
              "</div>\n",
              "\n",
              "    </div>\n",
              "  </div>\n"
            ],
            "application/vnd.google.colaboratory.intrinsic+json": {
              "type": "dataframe",
              "variable_name": "responses"
            }
          },
          "metadata": {},
          "execution_count": 27
        }
      ]
    },
    {
      "cell_type": "code",
      "source": [
        "responses.dtypes"
      ],
      "metadata": {
        "colab": {
          "base_uri": "https://localhost:8080/"
        },
        "id": "1L3y_ir1M5JM",
        "outputId": "45fdbab2-568b-47da-c468-bee0307969a0"
      },
      "execution_count": null,
      "outputs": [
        {
          "output_type": "execute_result",
          "data": {
            "text/plain": [
              "book                       object\n",
              "release                    object\n",
              "chapter                    object\n",
              "page                       object\n",
              "chapter_number            float64\n",
              "section_number            float64\n",
              "review_flag                  bool\n",
              "institution_id             object\n",
              "class_id                   object\n",
              "student_id                 object\n",
              "item_id                    object\n",
              "item_type                  object\n",
              "response                   object\n",
              "prompt                     object\n",
              "points_possible           float64\n",
              "points_earned             float64\n",
              "dt_submitted               object\n",
              "completes_page               bool\n",
              "attempt                     int64\n",
              "user_agent                 object\n",
              "lrn_response_id            object\n",
              "lrn_activity_reference     object\n",
              "lrn_question_reference     object\n",
              "lrn_question_position     float64\n",
              "lrn_type                   object\n",
              "lrn_dt_started             object\n",
              "lrn_dt_saved               object\n",
              "lrn_status                 object\n",
              "lrn_option_0               object\n",
              "lrn_option_1               object\n",
              "lrn_option_2               object\n",
              "lrn_option_3               object\n",
              "lrn_option_4               object\n",
              "lrn_option_5               object\n",
              "lrn_option_6               object\n",
              "lrn_option_7               object\n",
              "lrn_option_8               object\n",
              "lrn_option_9               object\n",
              "lrn_option_10              object\n",
              "lrn_option_11              object\n",
              "dtype: object"
            ]
          },
          "metadata": {},
          "execution_count": 32
        }
      ]
    },
    {
      "cell_type": "code",
      "source": [
        "responses.shape"
      ],
      "metadata": {
        "colab": {
          "base_uri": "https://localhost:8080/"
        },
        "id": "zdhXkByzOaMx",
        "outputId": "4b6f7e4b-268d-43d9-ff17-fc4dbc689954"
      },
      "execution_count": null,
      "outputs": [
        {
          "output_type": "execute_result",
          "data": {
            "text/plain": [
              "(246278, 40)"
            ]
          },
          "metadata": {},
          "execution_count": 30
        }
      ]
    },
    {
      "cell_type": "code",
      "source": [
        "responses['chapter'] = responses['chapter'].astype(str)"
      ],
      "metadata": {
        "id": "hepgiwekOadg"
      },
      "execution_count": null,
      "outputs": []
    },
    {
      "cell_type": "code",
      "source": [
        "responses.dtypes"
      ],
      "metadata": {
        "colab": {
          "base_uri": "https://localhost:8080/"
        },
        "id": "rH5bW_IFOaue",
        "outputId": "d0e6980d-df6b-4245-c4e7-146c0e310870"
      },
      "execution_count": null,
      "outputs": [
        {
          "output_type": "execute_result",
          "data": {
            "text/plain": [
              "book                       object\n",
              "release                    object\n",
              "chapter                    object\n",
              "page                       object\n",
              "chapter_number            float64\n",
              "section_number            float64\n",
              "review_flag                  bool\n",
              "institution_id             object\n",
              "class_id                   object\n",
              "student_id                 object\n",
              "item_id                    object\n",
              "item_type                  object\n",
              "response                   object\n",
              "prompt                     object\n",
              "points_possible           float64\n",
              "points_earned             float64\n",
              "dt_submitted               object\n",
              "completes_page               bool\n",
              "attempt                     int64\n",
              "user_agent                 object\n",
              "lrn_response_id            object\n",
              "lrn_activity_reference     object\n",
              "lrn_question_reference     object\n",
              "lrn_question_position     float64\n",
              "lrn_type                   object\n",
              "lrn_dt_started             object\n",
              "lrn_dt_saved               object\n",
              "lrn_status                 object\n",
              "lrn_option_0               object\n",
              "lrn_option_1               object\n",
              "lrn_option_2               object\n",
              "lrn_option_3               object\n",
              "lrn_option_4               object\n",
              "lrn_option_5               object\n",
              "lrn_option_6               object\n",
              "lrn_option_7               object\n",
              "lrn_option_8               object\n",
              "lrn_option_9               object\n",
              "lrn_option_10              object\n",
              "lrn_option_11              object\n",
              "dtype: object"
            ]
          },
          "metadata": {},
          "execution_count": 34
        }
      ]
    },
    {
      "cell_type": "code",
      "source": [
        "responses['ch']  = responses[\"chapter\"].str[0]"
      ],
      "metadata": {
        "id": "ldj5g7X_Oa6l"
      },
      "execution_count": null,
      "outputs": []
    },
    {
      "cell_type": "code",
      "source": [
        "responses.dtypes"
      ],
      "metadata": {
        "colab": {
          "base_uri": "https://localhost:8080/"
        },
        "id": "eLALyJcbObE3",
        "outputId": "a4248a06-916b-4292-e8ec-dfa31ebea22c"
      },
      "execution_count": null,
      "outputs": [
        {
          "output_type": "execute_result",
          "data": {
            "text/plain": [
              "book                       object\n",
              "release                    object\n",
              "chapter                    object\n",
              "page                       object\n",
              "chapter_number            float64\n",
              "section_number            float64\n",
              "review_flag                  bool\n",
              "institution_id             object\n",
              "class_id                   object\n",
              "student_id                 object\n",
              "item_id                    object\n",
              "item_type                  object\n",
              "response                   object\n",
              "prompt                     object\n",
              "points_possible           float64\n",
              "points_earned             float64\n",
              "dt_submitted               object\n",
              "completes_page               bool\n",
              "attempt                     int64\n",
              "user_agent                 object\n",
              "lrn_response_id            object\n",
              "lrn_activity_reference     object\n",
              "lrn_question_reference     object\n",
              "lrn_question_position     float64\n",
              "lrn_type                   object\n",
              "lrn_dt_started             object\n",
              "lrn_dt_saved               object\n",
              "lrn_status                 object\n",
              "lrn_option_0               object\n",
              "lrn_option_1               object\n",
              "lrn_option_2               object\n",
              "lrn_option_3               object\n",
              "lrn_option_4               object\n",
              "lrn_option_5               object\n",
              "lrn_option_6               object\n",
              "lrn_option_7               object\n",
              "lrn_option_8               object\n",
              "lrn_option_9               object\n",
              "lrn_option_10              object\n",
              "lrn_option_11              object\n",
              "ch                         object\n",
              "dtype: object"
            ]
          },
          "metadata": {},
          "execution_count": 37
        }
      ]
    },
    {
      "cell_type": "code",
      "source": [
        "responses[\"ch\"].unique()"
      ],
      "metadata": {
        "colab": {
          "base_uri": "https://localhost:8080/"
        },
        "id": "3JjZc8HGObNq",
        "outputId": "04fa76d5-fa9c-4e11-a3ba-0b6b8531594a"
      },
      "execution_count": null,
      "outputs": [
        {
          "output_type": "execute_result",
          "data": {
            "text/plain": [
              "array(['C', 'F', 'G', 'M', 'P'], dtype=object)"
            ]
          },
          "metadata": {},
          "execution_count": 38
        }
      ]
    },
    {
      "cell_type": "code",
      "source": [
        "import dtale\n",
        "import dtale.app as dtale_app\n",
        "\n",
        "dtale_app.USE_COLAB = True\n"
      ],
      "metadata": {
        "id": "3lpqnsN2ObUp"
      },
      "execution_count": null,
      "outputs": []
    },
    {
      "cell_type": "code",
      "source": [
        "dtale.show(pivot_df)"
      ],
      "metadata": {
        "colab": {
          "base_uri": "https://localhost:8080/",
          "height": 35
        },
        "id": "EP-15WsuObc9",
        "outputId": "398387e2-4234-418a-a4b2-319186d8a1b2"
      },
      "execution_count": null,
      "outputs": [
        {
          "output_type": "execute_result",
          "data": {
            "text/plain": [
              "https://gw7a02sdvjb-496ff2e9c6d22116-40000-colab.googleusercontent.com/dtale/main/4"
            ]
          },
          "metadata": {},
          "execution_count": 28
        }
      ]
    },
    {
      "cell_type": "code",
      "source": [
        "pip install dtale"
      ],
      "metadata": {
        "id": "JUBFSwTVZsha"
      },
      "execution_count": null,
      "outputs": []
    },
    {
      "cell_type": "code",
      "source": [
        "import dtale.app as dtale_app\n",
        "import dtale\n",
        "import pandas as pd\n",
        "dtale_app.USE_COLAB = True"
      ],
      "metadata": {
        "id": "UB9jr6Hpoloo"
      },
      "execution_count": null,
      "outputs": []
    },
    {
      "cell_type": "code",
      "source": [
        "df = pd.read_csv(\"checkpoints.csv\")"
      ],
      "metadata": {
        "id": "g9Uw7CHbol1d"
      },
      "execution_count": 10,
      "outputs": []
    },
    {
      "cell_type": "code",
      "source": [
        "dtale.show(df)"
      ],
      "metadata": {
        "colab": {
          "base_uri": "https://localhost:8080/",
          "height": 34
        },
        "id": "Nw85zuixomDW",
        "outputId": "1e8b9274-6269-4b25-dfcd-a61938360de5"
      },
      "execution_count": null,
      "outputs": [
        {
          "output_type": "execute_result",
          "data": {
            "text/plain": [
              "https://0vhdc20xq7p9-496ff2e9c6d22116-40000-colab.googleusercontent.com/dtale/main/1"
            ]
          },
          "metadata": {},
          "execution_count": 8
        }
      ]
    },
    {
      "cell_type": "code",
      "source": [
        "\n"
      ],
      "metadata": {
        "id": "0GZ2a53tomNa",
        "colab": {
          "base_uri": "https://localhost:8080/",
          "height": 382
        },
        "outputId": "63a65ef0-c662-4da7-98c1-4554afff92f1"
      },
      "execution_count": null,
      "outputs": [
        {
          "output_type": "error",
          "ename": "FileNotFoundError",
          "evalue": "[Errno 2] No such file or directory: 'page_views.csv'",
          "traceback": [
            "\u001b[0;31m---------------------------------------------------------------------------\u001b[0m",
            "\u001b[0;31mFileNotFoundError\u001b[0m                         Traceback (most recent call last)",
            "\u001b[0;32m<ipython-input-31-a1a90c1822e6>\u001b[0m in \u001b[0;36m<cell line: 4>\u001b[0;34m()\u001b[0m\n\u001b[1;32m      2\u001b[0m \u001b[0;34m\u001b[0m\u001b[0m\n\u001b[1;32m      3\u001b[0m \u001b[0;31m# Read the CSV file\u001b[0m\u001b[0;34m\u001b[0m\u001b[0;34m\u001b[0m\u001b[0m\n\u001b[0;32m----> 4\u001b[0;31m \u001b[0mdf\u001b[0m \u001b[0;34m=\u001b[0m \u001b[0mpd\u001b[0m\u001b[0;34m.\u001b[0m\u001b[0mread_csv\u001b[0m\u001b[0;34m(\u001b[0m\u001b[0;34m\"page_views.csv\"\u001b[0m\u001b[0;34m)\u001b[0m\u001b[0;34m\u001b[0m\u001b[0;34m\u001b[0m\u001b[0m\n\u001b[0m\u001b[1;32m      5\u001b[0m \u001b[0;34m\u001b[0m\u001b[0m\n\u001b[1;32m      6\u001b[0m \u001b[0;31m# Group by chapter and calculate sum of engaged\u001b[0m\u001b[0;34m\u001b[0m\u001b[0;34m\u001b[0m\u001b[0m\n",
            "\u001b[0;32m/usr/local/lib/python3.10/dist-packages/pandas/io/parsers/readers.py\u001b[0m in \u001b[0;36mread_csv\u001b[0;34m(filepath_or_buffer, sep, delimiter, header, names, index_col, usecols, dtype, engine, converters, true_values, false_values, skipinitialspace, skiprows, skipfooter, nrows, na_values, keep_default_na, na_filter, verbose, skip_blank_lines, parse_dates, infer_datetime_format, keep_date_col, date_parser, date_format, dayfirst, cache_dates, iterator, chunksize, compression, thousands, decimal, lineterminator, quotechar, quoting, doublequote, escapechar, comment, encoding, encoding_errors, dialect, on_bad_lines, delim_whitespace, low_memory, memory_map, float_precision, storage_options, dtype_backend)\u001b[0m\n\u001b[1;32m    910\u001b[0m     \u001b[0mkwds\u001b[0m\u001b[0;34m.\u001b[0m\u001b[0mupdate\u001b[0m\u001b[0;34m(\u001b[0m\u001b[0mkwds_defaults\u001b[0m\u001b[0;34m)\u001b[0m\u001b[0;34m\u001b[0m\u001b[0;34m\u001b[0m\u001b[0m\n\u001b[1;32m    911\u001b[0m \u001b[0;34m\u001b[0m\u001b[0m\n\u001b[0;32m--> 912\u001b[0;31m     \u001b[0;32mreturn\u001b[0m \u001b[0m_read\u001b[0m\u001b[0;34m(\u001b[0m\u001b[0mfilepath_or_buffer\u001b[0m\u001b[0;34m,\u001b[0m \u001b[0mkwds\u001b[0m\u001b[0;34m)\u001b[0m\u001b[0;34m\u001b[0m\u001b[0;34m\u001b[0m\u001b[0m\n\u001b[0m\u001b[1;32m    913\u001b[0m \u001b[0;34m\u001b[0m\u001b[0m\n\u001b[1;32m    914\u001b[0m \u001b[0;34m\u001b[0m\u001b[0m\n",
            "\u001b[0;32m/usr/local/lib/python3.10/dist-packages/pandas/io/parsers/readers.py\u001b[0m in \u001b[0;36m_read\u001b[0;34m(filepath_or_buffer, kwds)\u001b[0m\n\u001b[1;32m    575\u001b[0m \u001b[0;34m\u001b[0m\u001b[0m\n\u001b[1;32m    576\u001b[0m     \u001b[0;31m# Create the parser.\u001b[0m\u001b[0;34m\u001b[0m\u001b[0;34m\u001b[0m\u001b[0m\n\u001b[0;32m--> 577\u001b[0;31m     \u001b[0mparser\u001b[0m \u001b[0;34m=\u001b[0m \u001b[0mTextFileReader\u001b[0m\u001b[0;34m(\u001b[0m\u001b[0mfilepath_or_buffer\u001b[0m\u001b[0;34m,\u001b[0m \u001b[0;34m**\u001b[0m\u001b[0mkwds\u001b[0m\u001b[0;34m)\u001b[0m\u001b[0;34m\u001b[0m\u001b[0;34m\u001b[0m\u001b[0m\n\u001b[0m\u001b[1;32m    578\u001b[0m \u001b[0;34m\u001b[0m\u001b[0m\n\u001b[1;32m    579\u001b[0m     \u001b[0;32mif\u001b[0m \u001b[0mchunksize\u001b[0m \u001b[0;32mor\u001b[0m \u001b[0miterator\u001b[0m\u001b[0;34m:\u001b[0m\u001b[0;34m\u001b[0m\u001b[0;34m\u001b[0m\u001b[0m\n",
            "\u001b[0;32m/usr/local/lib/python3.10/dist-packages/pandas/io/parsers/readers.py\u001b[0m in \u001b[0;36m__init__\u001b[0;34m(self, f, engine, **kwds)\u001b[0m\n\u001b[1;32m   1405\u001b[0m \u001b[0;34m\u001b[0m\u001b[0m\n\u001b[1;32m   1406\u001b[0m         \u001b[0mself\u001b[0m\u001b[0;34m.\u001b[0m\u001b[0mhandles\u001b[0m\u001b[0;34m:\u001b[0m \u001b[0mIOHandles\u001b[0m \u001b[0;34m|\u001b[0m \u001b[0;32mNone\u001b[0m \u001b[0;34m=\u001b[0m \u001b[0;32mNone\u001b[0m\u001b[0;34m\u001b[0m\u001b[0;34m\u001b[0m\u001b[0m\n\u001b[0;32m-> 1407\u001b[0;31m         \u001b[0mself\u001b[0m\u001b[0;34m.\u001b[0m\u001b[0m_engine\u001b[0m \u001b[0;34m=\u001b[0m \u001b[0mself\u001b[0m\u001b[0;34m.\u001b[0m\u001b[0m_make_engine\u001b[0m\u001b[0;34m(\u001b[0m\u001b[0mf\u001b[0m\u001b[0;34m,\u001b[0m \u001b[0mself\u001b[0m\u001b[0;34m.\u001b[0m\u001b[0mengine\u001b[0m\u001b[0;34m)\u001b[0m\u001b[0;34m\u001b[0m\u001b[0;34m\u001b[0m\u001b[0m\n\u001b[0m\u001b[1;32m   1408\u001b[0m \u001b[0;34m\u001b[0m\u001b[0m\n\u001b[1;32m   1409\u001b[0m     \u001b[0;32mdef\u001b[0m \u001b[0mclose\u001b[0m\u001b[0;34m(\u001b[0m\u001b[0mself\u001b[0m\u001b[0;34m)\u001b[0m \u001b[0;34m->\u001b[0m \u001b[0;32mNone\u001b[0m\u001b[0;34m:\u001b[0m\u001b[0;34m\u001b[0m\u001b[0;34m\u001b[0m\u001b[0m\n",
            "\u001b[0;32m/usr/local/lib/python3.10/dist-packages/pandas/io/parsers/readers.py\u001b[0m in \u001b[0;36m_make_engine\u001b[0;34m(self, f, engine)\u001b[0m\n\u001b[1;32m   1659\u001b[0m                 \u001b[0;32mif\u001b[0m \u001b[0;34m\"b\"\u001b[0m \u001b[0;32mnot\u001b[0m \u001b[0;32min\u001b[0m \u001b[0mmode\u001b[0m\u001b[0;34m:\u001b[0m\u001b[0;34m\u001b[0m\u001b[0;34m\u001b[0m\u001b[0m\n\u001b[1;32m   1660\u001b[0m                     \u001b[0mmode\u001b[0m \u001b[0;34m+=\u001b[0m \u001b[0;34m\"b\"\u001b[0m\u001b[0;34m\u001b[0m\u001b[0;34m\u001b[0m\u001b[0m\n\u001b[0;32m-> 1661\u001b[0;31m             self.handles = get_handle(\n\u001b[0m\u001b[1;32m   1662\u001b[0m                 \u001b[0mf\u001b[0m\u001b[0;34m,\u001b[0m\u001b[0;34m\u001b[0m\u001b[0;34m\u001b[0m\u001b[0m\n\u001b[1;32m   1663\u001b[0m                 \u001b[0mmode\u001b[0m\u001b[0;34m,\u001b[0m\u001b[0;34m\u001b[0m\u001b[0;34m\u001b[0m\u001b[0m\n",
            "\u001b[0;32m/usr/local/lib/python3.10/dist-packages/pandas/io/common.py\u001b[0m in \u001b[0;36mget_handle\u001b[0;34m(path_or_buf, mode, encoding, compression, memory_map, is_text, errors, storage_options)\u001b[0m\n\u001b[1;32m    857\u001b[0m         \u001b[0;32mif\u001b[0m \u001b[0mioargs\u001b[0m\u001b[0;34m.\u001b[0m\u001b[0mencoding\u001b[0m \u001b[0;32mand\u001b[0m \u001b[0;34m\"b\"\u001b[0m \u001b[0;32mnot\u001b[0m \u001b[0;32min\u001b[0m \u001b[0mioargs\u001b[0m\u001b[0;34m.\u001b[0m\u001b[0mmode\u001b[0m\u001b[0;34m:\u001b[0m\u001b[0;34m\u001b[0m\u001b[0;34m\u001b[0m\u001b[0m\n\u001b[1;32m    858\u001b[0m             \u001b[0;31m# Encoding\u001b[0m\u001b[0;34m\u001b[0m\u001b[0;34m\u001b[0m\u001b[0m\n\u001b[0;32m--> 859\u001b[0;31m             handle = open(\n\u001b[0m\u001b[1;32m    860\u001b[0m                 \u001b[0mhandle\u001b[0m\u001b[0;34m,\u001b[0m\u001b[0;34m\u001b[0m\u001b[0;34m\u001b[0m\u001b[0m\n\u001b[1;32m    861\u001b[0m                 \u001b[0mioargs\u001b[0m\u001b[0;34m.\u001b[0m\u001b[0mmode\u001b[0m\u001b[0;34m,\u001b[0m\u001b[0;34m\u001b[0m\u001b[0;34m\u001b[0m\u001b[0m\n",
            "\u001b[0;31mFileNotFoundError\u001b[0m: [Errno 2] No such file or directory: 'page_views.csv'"
          ]
        }
      ]
    },
    {
      "cell_type": "code",
      "source": [
        "import matplotlib.pyplot as plt\n",
        "\n",
        "# Load the data\n",
        "df = pd.read_csv('checkpoints.csv')\n",
        "\n",
        "\n",
        "df_filtered = df[df['chapter_number'].isin([2, 3, 4, 5, 6, 7, 8, 9, 10, 11, 12])]\n",
        "\n",
        "df_filtered = df_filtered.dropna(subset=['Expectancy', 'EOC'])\n",
        "\n",
        "# # Create the scatter plot\n",
        "# plt.scatter(df_filtered['EOC'], df_filtered['Expectancy'])\n",
        "# plt.xlabel('Expectancy')\n",
        "# plt.ylabel('EOC')\n",
        "# plt.title('Scatter plot of EOC vs Expectancy')\n",
        "# plt.show()\n",
        "\n",
        "# Create box plots\n",
        "plt.figure(figsize=(12, 6))\n",
        "\n",
        "plt.subplot(1, 2, 1)\n",
        "sns.boxplot(y=df_filtered['EOC'])\n",
        "plt.title('Box plot of EOC')\n",
        "\n",
        "plt.subplot(1, 2, 2)\n",
        "sns.boxplot(y=df_filtered['Expectancy'])\n",
        "plt.title('Box plot of Expectancy')\n",
        "\n",
        "plt.tight_layout()\n",
        "plt.show()"
      ],
      "metadata": {
        "id": "EPp9SFMhomXz",
        "colab": {
          "base_uri": "https://localhost:8080/",
          "height": 722
        },
        "outputId": "240c40c8-ad22-432e-d10b-2415f998eda6"
      },
      "execution_count": 11,
      "outputs": [
        {
          "output_type": "error",
          "ename": "NameError",
          "evalue": "name 'sns' is not defined",
          "traceback": [
            "\u001b[0;31m---------------------------------------------------------------------------\u001b[0m",
            "\u001b[0;31mNameError\u001b[0m                                 Traceback (most recent call last)",
            "\u001b[0;32m<ipython-input-11-7ca8f6319d9b>\u001b[0m in \u001b[0;36m<cell line: 22>\u001b[0;34m()\u001b[0m\n\u001b[1;32m     20\u001b[0m \u001b[0;34m\u001b[0m\u001b[0m\n\u001b[1;32m     21\u001b[0m \u001b[0mplt\u001b[0m\u001b[0;34m.\u001b[0m\u001b[0msubplot\u001b[0m\u001b[0;34m(\u001b[0m\u001b[0;36m1\u001b[0m\u001b[0;34m,\u001b[0m \u001b[0;36m2\u001b[0m\u001b[0;34m,\u001b[0m \u001b[0;36m1\u001b[0m\u001b[0;34m)\u001b[0m\u001b[0;34m\u001b[0m\u001b[0;34m\u001b[0m\u001b[0m\n\u001b[0;32m---> 22\u001b[0;31m \u001b[0msns\u001b[0m\u001b[0;34m.\u001b[0m\u001b[0mboxplot\u001b[0m\u001b[0;34m(\u001b[0m\u001b[0my\u001b[0m\u001b[0;34m=\u001b[0m\u001b[0mdf_filtered\u001b[0m\u001b[0;34m[\u001b[0m\u001b[0;34m'EOC'\u001b[0m\u001b[0;34m]\u001b[0m\u001b[0;34m)\u001b[0m\u001b[0;34m\u001b[0m\u001b[0;34m\u001b[0m\u001b[0m\n\u001b[0m\u001b[1;32m     23\u001b[0m \u001b[0mplt\u001b[0m\u001b[0;34m.\u001b[0m\u001b[0mtitle\u001b[0m\u001b[0;34m(\u001b[0m\u001b[0;34m'Box plot of EOC'\u001b[0m\u001b[0;34m)\u001b[0m\u001b[0;34m\u001b[0m\u001b[0;34m\u001b[0m\u001b[0m\n\u001b[1;32m     24\u001b[0m \u001b[0;34m\u001b[0m\u001b[0m\n",
            "\u001b[0;31mNameError\u001b[0m: name 'sns' is not defined"
          ]
        },
        {
          "output_type": "display_data",
          "data": {
            "text/plain": [
              "<Figure size 1200x600 with 1 Axes>"
            ],
            "image/png": "[encoded data removed]"
          },
          "metadata": {}
        }
      ]
    },
    {
      "cell_type": "code",
      "source": [
        "import matplotlib.pyplot as plt\n",
        "\n",
        "# Load the data\n",
        "df = pd.read_csv('checkpoints.csv')\n",
        "\n",
        "\n",
        "df_filtered = df[df['chapter_number'].isin([2, 3, 4, 5, 6, 7, 8, 9, 10, 11, 12])]\n",
        "\n",
        "df_filtered = df_filtered.dropna(subset=['Cost', 'EOC'])\n",
        "\n",
        "# Create the scatter plot\n",
        "plt.scatter(df_filtered['EOC'], df_filtered['Cost'])\n",
        "plt.xlabel('EOC')\n",
        "plt.ylabel('Cost')\n",
        "plt.title('Scatter plot of EOC vs Cost for all chapter')\n",
        "plt.show()"
      ],
      "metadata": {
        "id": "phlYwzjwomgt",
        "colab": {
          "base_uri": "https://localhost:8080/",
          "height": 472
        },
        "outputId": "1d6c21b5-59ba-449b-ae25-d0ca98045ddb"
      },
      "execution_count": null,
      "outputs": [
        {
          "output_type": "display_data",
          "data": {
            "text/plain": [
              "<Figure size 640x480 with 1 Axes>"
            ],
            "image/png": "[encoded data removed]"
          },
          "metadata": {}
        }
      ]
    },
    {
      "cell_type": "code",
      "source": [
        "import matplotlib.pyplot as plt\n",
        "\n",
        "# Load the data\n",
        "df = pd.read_csv('checkpoints.csv')\n",
        "\n",
        "\n",
        "df_filtered = df[df['chapter_number'].isin([2, 3, 4, 5, 6, 7, 8, 9, 10, 11, 12])]\n",
        "\n",
        "df_filtered = df_filtered.dropna(subset=['Intrinsic Value', 'EOC'])\n",
        "\n",
        "# Create the scatter plot\n",
        "plt.scatter(df_filtered['EOC'], df_filtered['Intrinsic Value'])\n",
        "plt.xlabel('EOC')\n",
        "plt.ylabel('Intrinsic Value')\n",
        "plt.title('Scatter plot of EOC vs Cost for all chapter')\n",
        "plt.show()"
      ],
      "metadata": {
        "colab": {
          "base_uri": "https://localhost:8080/",
          "height": 472
        },
        "id": "7SWnOnkovZha",
        "outputId": "20ada401-d3df-41cc-de36-e394e0ad1066"
      },
      "execution_count": 12,
      "outputs": [
        {
          "output_type": "display_data",
          "data": {
            "text/plain": [
              "<Figure size 640x480 with 1 Axes>"
            ],
            "image/png": "[encoded data removed]"
          },
          "metadata": {}
        }
      ]
    },
    {
      "cell_type": "code",
      "source": [
        "import matplotlib.pyplot as plt\n",
        "\n",
        "# Load the data\n",
        "df = pd.read_csv('checkpoints.csv')\n",
        "\n",
        "\n",
        "df_filtered = df[df['chapter_number'].isin([2, 3, 4, 5, 6, 7, 8, 9, 10, 11, 12])]\n",
        "\n",
        "df_filtered = df_filtered.dropna(subset=['Utility Value', 'EOC'])\n",
        "\n",
        "# Fit the model\n",
        "model = mord.OrdinalRidge()\n",
        "model.fit(df_filtered[['EOC']], df_filtered['Cost'])\n",
        "\n",
        "# Print the coefficient\n",
        "print('Coefficient for EOC:', model.coef_)\n",
        "\n",
        "# Create the scatter plot\n",
        "plt.scatter(df_filtered['Utility Value'], df_filtered['EOC'])\n",
        "plt.xlabel('Utility Value')\n",
        "plt.ylabel('EOC')\n",
        "plt.title('Scatter plot of EOC vs Cost for all chapter')\n",
        "plt.show()"
      ],
      "metadata": {
        "colab": {
          "base_uri": "https://localhost:8080/",
          "height": 211
        },
        "id": "4sJWmSGtvZyK",
        "outputId": "cdafd29d-8a05-462a-870f-27abc1a5fea0"
      },
      "execution_count": 5,
      "outputs": [
        {
          "output_type": "error",
          "ename": "NameError",
          "evalue": "name 'pd' is not defined",
          "traceback": [
            "\u001b[0;31m---------------------------------------------------------------------------\u001b[0m",
            "\u001b[0;31mNameError\u001b[0m                                 Traceback (most recent call last)",
            "\u001b[0;32m<ipython-input-5-a37f3e9e0ad2>\u001b[0m in \u001b[0;36m<cell line: 4>\u001b[0;34m()\u001b[0m\n\u001b[1;32m      2\u001b[0m \u001b[0;34m\u001b[0m\u001b[0m\n\u001b[1;32m      3\u001b[0m \u001b[0;31m# Load the data\u001b[0m\u001b[0;34m\u001b[0m\u001b[0;34m\u001b[0m\u001b[0m\n\u001b[0;32m----> 4\u001b[0;31m \u001b[0mdf\u001b[0m \u001b[0;34m=\u001b[0m \u001b[0mpd\u001b[0m\u001b[0;34m.\u001b[0m\u001b[0mread_csv\u001b[0m\u001b[0;34m(\u001b[0m\u001b[0;34m'checkpoints.csv'\u001b[0m\u001b[0;34m)\u001b[0m\u001b[0;34m\u001b[0m\u001b[0;34m\u001b[0m\u001b[0m\n\u001b[0m\u001b[1;32m      5\u001b[0m \u001b[0;34m\u001b[0m\u001b[0m\n\u001b[1;32m      6\u001b[0m \u001b[0;34m\u001b[0m\u001b[0m\n",
            "\u001b[0;31mNameError\u001b[0m: name 'pd' is not defined"
          ]
        }
      ]
    },
    {
      "cell_type": "code",
      "source": [
        "pip install mord"
      ],
      "metadata": {
        "colab": {
          "base_uri": "https://localhost:8080/"
        },
        "id": "n8QfvzZvvaBi",
        "outputId": "edebd0bf-c5cc-47b9-a9cb-295b833e4c1f"
      },
      "execution_count": 2,
      "outputs": [
        {
          "output_type": "stream",
          "name": "stdout",
          "text": [
            "Collecting mord\n",
            "  Downloading mord-0.7.tar.gz (8.6 kB)\n",
            "  Preparing metadata (setup.py) ... \u001b[?25l\u001b[?25hdone\n",
            "Building wheels for collected packages: mord\n",
            "  Building wheel for mord (setup.py) ... \u001b[?25l\u001b[?25hdone\n",
            "  Created wheel for mord: filename=mord-0.7-py3-none-any.whl size=9885 sha256=bbdef22decfee1433703d9fa6794a383326981fb1b56c7670e1c6cf0da8a70b0\n",
            "  Stored in directory: /root/.cache/pip/wheels/77/00/19/3cea86fbfc737ec4acb515cd94497dcc33f943fa157548b96c\n",
            "Successfully built mord\n",
            "Installing collected packages: mord\n",
            "Successfully installed mord-0.7\n"
          ]
        }
      ]
    },
    {
      "cell_type": "code",
      "source": [
        "import mord"
      ],
      "metadata": {
        "id": "nL0ENwB3xQG1"
      },
      "execution_count": 12,
      "outputs": []
    },
    {
      "cell_type": "code",
      "source": [
        "# Drop rows with missing 'Cost' or 'EOC' values\n",
        "df_filtered = df.dropna(subset=['Cost', 'EOC'])\n",
        "\n",
        "# Fit the model\n",
        "model = mord.OrdinalRidge()\n",
        "model.fit(df_filtered[['EOC']], df_filtered['Cost'])\n",
        "\n",
        "# Print the coefficient\n",
        "print('Coefficient for EOC:', model.coef_)"
      ],
      "metadata": {
        "id": "y-C6l0rYxUNB",
        "colab": {
          "base_uri": "https://localhost:8080/"
        },
        "outputId": "5896f77c-9370-437f-f458-be7362d3401e"
      },
      "execution_count": 13,
      "outputs": [
        {
          "output_type": "stream",
          "name": "stdout",
          "text": [
            "Coefficient for EOC: [-0.85259159]\n"
          ]
        }
      ]
    },
    {
      "cell_type": "code",
      "source": [
        "import mord\n",
        "import pandas as pd\n",
        "from sklearn.model_selection import train_test_split\n",
        "\n",
        "df = pd.read_csv('checkpoints.csv')\n",
        "df_filtered = df_filtered.dropna(subset=['Utility Value', 'EOC'])\n",
        "\n",
        "# # Convert the 'EOC' and 'Intrinsic Value' columns to numeric\n",
        "df_filtered['Intrinsic Value'] = df_filtered['Intrinsic Value'].astype(int)\n",
        "df_filtered[\"EOC\"] = df_filtered[\"EOC\"].astype(float)\n",
        "\n",
        "# Drop rows with missing values\n",
        "df_filtered = df_filtered.dropna(subset=['EOC', 'Intrinsic Value'])\n",
        "\n",
        "# Split the data into training and test sets\n",
        "X_train, X_test, y_train, y_test = train_test_split(df_filtered[['EOC']], df_filtered['Intrinsic Value'], test_size=0.2, random_state=42)\n",
        "\n",
        "# Create an ordinal logistic regression model\n",
        "model = mord.LogisticAT()\n",
        "\n",
        "# Fit the model\n",
        "model.fit(X_train, y_train)\n",
        "\n",
        "# Make predictions\n",
        "predictions = model.predict(X_test)\n",
        "\n",
        "# Plot the predictions\n",
        "plt.scatter(X_test, predictions, label='Predicted')\n",
        "plt.scatter(X_test, y_test, label='Actual')\n",
        "plt.xlabel('EOC')\n",
        "plt.ylabel('Intrinsic Value')\n",
        "plt.title('Ordinal Logistic Regression of EOC vs Intrinsic Value')\n",
        "plt.legend()\n",
        "plt.show()"
      ],
      "metadata": {
        "colab": {
          "base_uri": "https://localhost:8080/",
          "height": 373
        },
        "id": "E_6rF83HxqMz",
        "outputId": "e32d11e5-394e-4c5e-ce96-11444e778c9b"
      },
      "execution_count": 11,
      "outputs": [
        {
          "output_type": "error",
          "ename": "IntCastingNaNError",
          "evalue": "Cannot convert non-finite values (NA or inf) to integer",
          "traceback": [
            "\u001b[0;31m---------------------------------------------------------------------------\u001b[0m",
            "\u001b[0;31mIntCastingNaNError\u001b[0m                        Traceback (most recent call last)",
            "\u001b[0;32m<ipython-input-11-1913d697a679>\u001b[0m in \u001b[0;36m<cell line: 9>\u001b[0;34m()\u001b[0m\n\u001b[1;32m      7\u001b[0m \u001b[0;34m\u001b[0m\u001b[0m\n\u001b[1;32m      8\u001b[0m \u001b[0;31m# # Convert the 'EOC' and 'Intrinsic Value' columns to numeric\u001b[0m\u001b[0;34m\u001b[0m\u001b[0;34m\u001b[0m\u001b[0m\n\u001b[0;32m----> 9\u001b[0;31m \u001b[0mdf_filtered\u001b[0m\u001b[0;34m[\u001b[0m\u001b[0;34m'Intrinsic Value'\u001b[0m\u001b[0;34m]\u001b[0m \u001b[0;34m=\u001b[0m \u001b[0mdf_filtered\u001b[0m\u001b[0;34m[\u001b[0m\u001b[0;34m'Intrinsic Value'\u001b[0m\u001b[0;34m]\u001b[0m\u001b[0;34m.\u001b[0m\u001b[0mastype\u001b[0m\u001b[0;34m(\u001b[0m\u001b[0mint\u001b[0m\u001b[0;34m)\u001b[0m\u001b[0;34m\u001b[0m\u001b[0;34m\u001b[0m\u001b[0m\n\u001b[0m\u001b[1;32m     10\u001b[0m \u001b[0mdf_filtered\u001b[0m\u001b[0;34m[\u001b[0m\u001b[0;34m\"EOC\"\u001b[0m\u001b[0;34m]\u001b[0m \u001b[0;34m=\u001b[0m \u001b[0mdf_filtered\u001b[0m\u001b[0;34m[\u001b[0m\u001b[0;34m\"EOC\"\u001b[0m\u001b[0;34m]\u001b[0m\u001b[0;34m.\u001b[0m\u001b[0mastype\u001b[0m\u001b[0;34m(\u001b[0m\u001b[0mfloat\u001b[0m\u001b[0;34m)\u001b[0m\u001b[0;34m\u001b[0m\u001b[0;34m\u001b[0m\u001b[0m\n\u001b[1;32m     11\u001b[0m \u001b[0;34m\u001b[0m\u001b[0m\n",
            "\u001b[0;32m/usr/local/lib/python3.10/dist-packages/pandas/core/generic.py\u001b[0m in \u001b[0;36mastype\u001b[0;34m(self, dtype, copy, errors)\u001b[0m\n\u001b[1;32m   6322\u001b[0m         \u001b[0;32melse\u001b[0m\u001b[0;34m:\u001b[0m\u001b[0;34m\u001b[0m\u001b[0;34m\u001b[0m\u001b[0m\n\u001b[1;32m   6323\u001b[0m             \u001b[0;31m# else, only a single dtype is given\u001b[0m\u001b[0;34m\u001b[0m\u001b[0;34m\u001b[0m\u001b[0m\n\u001b[0;32m-> 6324\u001b[0;31m             \u001b[0mnew_data\u001b[0m \u001b[0;34m=\u001b[0m \u001b[0mself\u001b[0m\u001b[0;34m.\u001b[0m\u001b[0m_mgr\u001b[0m\u001b[0;34m.\u001b[0m\u001b[0mastype\u001b[0m\u001b[0;34m(\u001b[0m\u001b[0mdtype\u001b[0m\u001b[0;34m=\u001b[0m\u001b[0mdtype\u001b[0m\u001b[0;34m,\u001b[0m \u001b[0mcopy\u001b[0m\u001b[0;34m=\u001b[0m\u001b[0mcopy\u001b[0m\u001b[0;34m,\u001b[0m \u001b[0merrors\u001b[0m\u001b[0;34m=\u001b[0m\u001b[0merrors\u001b[0m\u001b[0;34m)\u001b[0m\u001b[0;34m\u001b[0m\u001b[0;34m\u001b[0m\u001b[0m\n\u001b[0m\u001b[1;32m   6325\u001b[0m             \u001b[0;32mreturn\u001b[0m \u001b[0mself\u001b[0m\u001b[0;34m.\u001b[0m\u001b[0m_constructor\u001b[0m\u001b[0;34m(\u001b[0m\u001b[0mnew_data\u001b[0m\u001b[0;34m)\u001b[0m\u001b[0;34m.\u001b[0m\u001b[0m__finalize__\u001b[0m\u001b[0;34m(\u001b[0m\u001b[0mself\u001b[0m\u001b[0;34m,\u001b[0m \u001b[0mmethod\u001b[0m\u001b[0;34m=\u001b[0m\u001b[0;34m\"astype\"\u001b[0m\u001b[0;34m)\u001b[0m\u001b[0;34m\u001b[0m\u001b[0;34m\u001b[0m\u001b[0m\n\u001b[1;32m   6326\u001b[0m \u001b[0;34m\u001b[0m\u001b[0m\n",
            "\u001b[0;32m/usr/local/lib/python3.10/dist-packages/pandas/core/internals/managers.py\u001b[0m in \u001b[0;36mastype\u001b[0;34m(self, dtype, copy, errors)\u001b[0m\n\u001b[1;32m    449\u001b[0m             \u001b[0mcopy\u001b[0m \u001b[0;34m=\u001b[0m \u001b[0;32mFalse\u001b[0m\u001b[0;34m\u001b[0m\u001b[0;34m\u001b[0m\u001b[0m\n\u001b[1;32m    450\u001b[0m \u001b[0;34m\u001b[0m\u001b[0m\n\u001b[0;32m--> 451\u001b[0;31m         return self.apply(\n\u001b[0m\u001b[1;32m    452\u001b[0m             \u001b[0;34m\"astype\"\u001b[0m\u001b[0;34m,\u001b[0m\u001b[0;34m\u001b[0m\u001b[0;34m\u001b[0m\u001b[0m\n\u001b[1;32m    453\u001b[0m             \u001b[0mdtype\u001b[0m\u001b[0;34m=\u001b[0m\u001b[0mdtype\u001b[0m\u001b[0;34m,\u001b[0m\u001b[0;34m\u001b[0m\u001b[0;34m\u001b[0m\u001b[0m\n",
            "\u001b[0;32m/usr/local/lib/python3.10/dist-packages/pandas/core/internals/managers.py\u001b[0m in \u001b[0;36mapply\u001b[0;34m(self, f, align_keys, **kwargs)\u001b[0m\n\u001b[1;32m    350\u001b[0m                 \u001b[0mapplied\u001b[0m \u001b[0;34m=\u001b[0m \u001b[0mb\u001b[0m\u001b[0;34m.\u001b[0m\u001b[0mapply\u001b[0m\u001b[0;34m(\u001b[0m\u001b[0mf\u001b[0m\u001b[0;34m,\u001b[0m \u001b[0;34m**\u001b[0m\u001b[0mkwargs\u001b[0m\u001b[0;34m)\u001b[0m\u001b[0;34m\u001b[0m\u001b[0;34m\u001b[0m\u001b[0m\n\u001b[1;32m    351\u001b[0m             \u001b[0;32melse\u001b[0m\u001b[0;34m:\u001b[0m\u001b[0;34m\u001b[0m\u001b[0;34m\u001b[0m\u001b[0m\n\u001b[0;32m--> 352\u001b[0;31m                 \u001b[0mapplied\u001b[0m \u001b[0;34m=\u001b[0m \u001b[0mgetattr\u001b[0m\u001b[0;34m(\u001b[0m\u001b[0mb\u001b[0m\u001b[0;34m,\u001b[0m \u001b[0mf\u001b[0m\u001b[0;34m)\u001b[0m\u001b[0;34m(\u001b[0m\u001b[0;34m**\u001b[0m\u001b[0mkwargs\u001b[0m\u001b[0;34m)\u001b[0m\u001b[0;34m\u001b[0m\u001b[0;34m\u001b[0m\u001b[0m\n\u001b[0m\u001b[1;32m    353\u001b[0m             \u001b[0mresult_blocks\u001b[0m \u001b[0;34m=\u001b[0m \u001b[0mextend_blocks\u001b[0m\u001b[0;34m(\u001b[0m\u001b[0mapplied\u001b[0m\u001b[0;34m,\u001b[0m \u001b[0mresult_blocks\u001b[0m\u001b[0;34m)\u001b[0m\u001b[0;34m\u001b[0m\u001b[0;34m\u001b[0m\u001b[0m\n\u001b[1;32m    354\u001b[0m \u001b[0;34m\u001b[0m\u001b[0m\n",
            "\u001b[0;32m/usr/local/lib/python3.10/dist-packages/pandas/core/internals/blocks.py\u001b[0m in \u001b[0;36mastype\u001b[0;34m(self, dtype, copy, errors, using_cow)\u001b[0m\n\u001b[1;32m    509\u001b[0m         \u001b[0mvalues\u001b[0m \u001b[0;34m=\u001b[0m \u001b[0mself\u001b[0m\u001b[0;34m.\u001b[0m\u001b[0mvalues\u001b[0m\u001b[0;34m\u001b[0m\u001b[0;34m\u001b[0m\u001b[0m\n\u001b[1;32m    510\u001b[0m \u001b[0;34m\u001b[0m\u001b[0m\n\u001b[0;32m--> 511\u001b[0;31m         \u001b[0mnew_values\u001b[0m \u001b[0;34m=\u001b[0m \u001b[0mastype_array_safe\u001b[0m\u001b[0;34m(\u001b[0m\u001b[0mvalues\u001b[0m\u001b[0;34m,\u001b[0m \u001b[0mdtype\u001b[0m\u001b[0;34m,\u001b[0m \u001b[0mcopy\u001b[0m\u001b[0;34m=\u001b[0m\u001b[0mcopy\u001b[0m\u001b[0;34m,\u001b[0m \u001b[0merrors\u001b[0m\u001b[0;34m=\u001b[0m\u001b[0merrors\u001b[0m\u001b[0;34m)\u001b[0m\u001b[0;34m\u001b[0m\u001b[0;34m\u001b[0m\u001b[0m\n\u001b[0m\u001b[1;32m    512\u001b[0m \u001b[0;34m\u001b[0m\u001b[0m\n\u001b[1;32m    513\u001b[0m         \u001b[0mnew_values\u001b[0m \u001b[0;34m=\u001b[0m \u001b[0mmaybe_coerce_values\u001b[0m\u001b[0;34m(\u001b[0m\u001b[0mnew_values\u001b[0m\u001b[0;34m)\u001b[0m\u001b[0;34m\u001b[0m\u001b[0;34m\u001b[0m\u001b[0m\n",
            "\u001b[0;32m/usr/local/lib/python3.10/dist-packages/pandas/core/dtypes/astype.py\u001b[0m in \u001b[0;36mastype_array_safe\u001b[0;34m(values, dtype, copy, errors)\u001b[0m\n\u001b[1;32m    240\u001b[0m \u001b[0;34m\u001b[0m\u001b[0m\n\u001b[1;32m    241\u001b[0m     \u001b[0;32mtry\u001b[0m\u001b[0;34m:\u001b[0m\u001b[0;34m\u001b[0m\u001b[0;34m\u001b[0m\u001b[0m\n\u001b[0;32m--> 242\u001b[0;31m         \u001b[0mnew_values\u001b[0m \u001b[0;34m=\u001b[0m \u001b[0mastype_array\u001b[0m\u001b[0;34m(\u001b[0m\u001b[0mvalues\u001b[0m\u001b[0;34m,\u001b[0m \u001b[0mdtype\u001b[0m\u001b[0;34m,\u001b[0m \u001b[0mcopy\u001b[0m\u001b[0;34m=\u001b[0m\u001b[0mcopy\u001b[0m\u001b[0;34m)\u001b[0m\u001b[0;34m\u001b[0m\u001b[0;34m\u001b[0m\u001b[0m\n\u001b[0m\u001b[1;32m    243\u001b[0m     \u001b[0;32mexcept\u001b[0m \u001b[0;34m(\u001b[0m\u001b[0mValueError\u001b[0m\u001b[0;34m,\u001b[0m \u001b[0mTypeError\u001b[0m\u001b[0;34m)\u001b[0m\u001b[0;34m:\u001b[0m\u001b[0;34m\u001b[0m\u001b[0;34m\u001b[0m\u001b[0m\n\u001b[1;32m    244\u001b[0m         \u001b[0;31m# e.g. _astype_nansafe can fail on object-dtype of strings\u001b[0m\u001b[0;34m\u001b[0m\u001b[0;34m\u001b[0m\u001b[0m\n",
            "\u001b[0;32m/usr/local/lib/python3.10/dist-packages/pandas/core/dtypes/astype.py\u001b[0m in \u001b[0;36mastype_array\u001b[0;34m(values, dtype, copy)\u001b[0m\n\u001b[1;32m    185\u001b[0m \u001b[0;34m\u001b[0m\u001b[0m\n\u001b[1;32m    186\u001b[0m     \u001b[0;32melse\u001b[0m\u001b[0;34m:\u001b[0m\u001b[0;34m\u001b[0m\u001b[0;34m\u001b[0m\u001b[0m\n\u001b[0;32m--> 187\u001b[0;31m         \u001b[0mvalues\u001b[0m \u001b[0;34m=\u001b[0m \u001b[0m_astype_nansafe\u001b[0m\u001b[0;34m(\u001b[0m\u001b[0mvalues\u001b[0m\u001b[0;34m,\u001b[0m \u001b[0mdtype\u001b[0m\u001b[0;34m,\u001b[0m \u001b[0mcopy\u001b[0m\u001b[0;34m=\u001b[0m\u001b[0mcopy\u001b[0m\u001b[0;34m)\u001b[0m\u001b[0;34m\u001b[0m\u001b[0;34m\u001b[0m\u001b[0m\n\u001b[0m\u001b[1;32m    188\u001b[0m \u001b[0;34m\u001b[0m\u001b[0m\n\u001b[1;32m    189\u001b[0m     \u001b[0;31m# in pandas we don't store numpy str dtypes, so convert to object\u001b[0m\u001b[0;34m\u001b[0m\u001b[0;34m\u001b[0m\u001b[0m\n",
            "\u001b[0;32m/usr/local/lib/python3.10/dist-packages/pandas/core/dtypes/astype.py\u001b[0m in \u001b[0;36m_astype_nansafe\u001b[0;34m(arr, dtype, copy, skipna)\u001b[0m\n\u001b[1;32m    103\u001b[0m \u001b[0;34m\u001b[0m\u001b[0m\n\u001b[1;32m    104\u001b[0m     \u001b[0;32melif\u001b[0m \u001b[0mnp\u001b[0m\u001b[0;34m.\u001b[0m\u001b[0missubdtype\u001b[0m\u001b[0;34m(\u001b[0m\u001b[0marr\u001b[0m\u001b[0;34m.\u001b[0m\u001b[0mdtype\u001b[0m\u001b[0;34m,\u001b[0m \u001b[0mnp\u001b[0m\u001b[0;34m.\u001b[0m\u001b[0mfloating\u001b[0m\u001b[0;34m)\u001b[0m \u001b[0;32mand\u001b[0m \u001b[0mis_integer_dtype\u001b[0m\u001b[0;34m(\u001b[0m\u001b[0mdtype\u001b[0m\u001b[0;34m)\u001b[0m\u001b[0;34m:\u001b[0m\u001b[0;34m\u001b[0m\u001b[0;34m\u001b[0m\u001b[0m\n\u001b[0;32m--> 105\u001b[0;31m         \u001b[0;32mreturn\u001b[0m \u001b[0m_astype_float_to_int_nansafe\u001b[0m\u001b[0;34m(\u001b[0m\u001b[0marr\u001b[0m\u001b[0;34m,\u001b[0m \u001b[0mdtype\u001b[0m\u001b[0;34m,\u001b[0m \u001b[0mcopy\u001b[0m\u001b[0;34m)\u001b[0m\u001b[0;34m\u001b[0m\u001b[0;34m\u001b[0m\u001b[0m\n\u001b[0m\u001b[1;32m    106\u001b[0m \u001b[0;34m\u001b[0m\u001b[0m\n\u001b[1;32m    107\u001b[0m     \u001b[0;32melif\u001b[0m \u001b[0mis_object_dtype\u001b[0m\u001b[0;34m(\u001b[0m\u001b[0marr\u001b[0m\u001b[0;34m.\u001b[0m\u001b[0mdtype\u001b[0m\u001b[0;34m)\u001b[0m\u001b[0;34m:\u001b[0m\u001b[0;34m\u001b[0m\u001b[0;34m\u001b[0m\u001b[0m\n",
            "\u001b[0;32m/usr/local/lib/python3.10/dist-packages/pandas/core/dtypes/astype.py\u001b[0m in \u001b[0;36m_astype_float_to_int_nansafe\u001b[0;34m(values, dtype, copy)\u001b[0m\n\u001b[1;32m    148\u001b[0m     \"\"\"\n\u001b[1;32m    149\u001b[0m     \u001b[0;32mif\u001b[0m \u001b[0;32mnot\u001b[0m \u001b[0mnp\u001b[0m\u001b[0;34m.\u001b[0m\u001b[0misfinite\u001b[0m\u001b[0;34m(\u001b[0m\u001b[0mvalues\u001b[0m\u001b[0;34m)\u001b[0m\u001b[0;34m.\u001b[0m\u001b[0mall\u001b[0m\u001b[0;34m(\u001b[0m\u001b[0;34m)\u001b[0m\u001b[0;34m:\u001b[0m\u001b[0;34m\u001b[0m\u001b[0;34m\u001b[0m\u001b[0m\n\u001b[0;32m--> 150\u001b[0;31m         raise IntCastingNaNError(\n\u001b[0m\u001b[1;32m    151\u001b[0m             \u001b[0;34m\"Cannot convert non-finite values (NA or inf) to integer\"\u001b[0m\u001b[0;34m\u001b[0m\u001b[0;34m\u001b[0m\u001b[0m\n\u001b[1;32m    152\u001b[0m         )\n",
            "\u001b[0;31mIntCastingNaNError\u001b[0m: Cannot convert non-finite values (NA or inf) to integer"
          ]
        }
      ]
    },
    {
      "cell_type": "code",
      "source": [
        "import mord\n",
        "import numpy as np\n",
        "import pandas as pd\n",
        "import seaborn as sns\n",
        "from sklearn.model_selection import train_test_split\n",
        "from sklearn.metrics import confusion_matrix\n",
        "\n",
        "df = pd.read_csv('checkpoints.csv')\n",
        "\n",
        "\n",
        "# Drop rows with missing or non-finite values\n",
        "df = df.dropna(subset=['EOC', 'Intrinsic Value'])\n",
        "df = df[df['Intrinsic Value'].apply(lambda x: np.isfinite(x))]\n",
        "\n",
        "# Convert the 'EOC' and 'Intrinsic Value' columns to numeric\n",
        "df['Intrinsic Value'] = df['Intrinsic Value'].astype(int)\n",
        "df[\"EOC\"] = df[\"EOC\"].astype(float)\n",
        "df[\"EOC\"] = (df[\"EOC\"].round(2) * 100)\n",
        "df[\"EOC\"] = df[\"EOC\"].astype(int)\n",
        "\n",
        "# Drop rows with missing values\n",
        "df = df.dropna(subset=['EOC', 'Intrinsic Value'])\n",
        "\n",
        "# Split the data into training and test sets\n",
        "X_train, X_test, y_train, y_test = train_test_split(df[['EOC']], df['Intrinsic Value'], test_size=0.2, random_state=42)\n",
        "\n",
        "# Create an ordinal logistic regression model\n",
        "model = mord.LogisticAT()\n",
        "\n",
        "# Fit the model\n",
        "model.fit(X_train, y_train)\n",
        "\n",
        "# Make predictions\n",
        "predictions = model.predict(X_test)\n",
        "\n",
        "# Create confusion matrix\n",
        "cm = confusion_matrix(y_test, predictions)\n",
        "\n",
        "\n",
        "\n",
        "# Visualize the confusion matrix as a heatmap\n",
        "sns.heatmap(cm, annot=True, fmt='d', cmap='YlGnBu')\n",
        "plt.xlabel('Predicted')\n",
        "plt.ylabel('Actual')\n",
        "plt.title('Confusion Matrix of EOC vs Intrinsic Value')\n",
        "plt.show()"
      ],
      "metadata": {
        "colab": {
          "base_uri": "https://localhost:8080/",
          "height": 472
        },
        "id": "OhzaAZy466YU",
        "outputId": "8f68d501-a4fd-4822-e312-109f01c50bf9"
      },
      "execution_count": 17,
      "outputs": [
        {
          "output_type": "display_data",
          "data": {
            "text/plain": [
              "<Figure size 640x480 with 2 Axes>"
            ],
            "image/png": "[encoded data removed]"
          },
          "metadata": {}
        }
      ]
    },
    {
      "cell_type": "code",
      "source": [
        "import mord\n",
        "import numpy as np\n",
        "import pandas as pd\n",
        "import seaborn as sns\n",
        "from sklearn.model_selection import train_test_split\n",
        "from sklearn.metrics import confusion_matrix\n",
        "\n",
        "df = pd.read_csv('checkpoints.csv')\n",
        "\n",
        "\n",
        "# Drop rows with missing or non-finite values\n",
        "df = df.dropna(subset=['EOC', 'Cost'])\n",
        "df = df[df['Cost'].apply(lambda x: np.isfinite(x))]\n",
        "\n",
        "\n",
        "# Convert the 'EOC' and 'Intrinsic Value' columns to numeric\n",
        "df['Cost'] = df['Cost'].astype(int)\n",
        "df[\"EOC\"] = df[\"EOC\"].astype(float)\n",
        "df[\"EOC\"] = (df[\"EOC\"].round(2) * 100)\n",
        "df[\"EOC\"] = df[\"EOC\"].astype(int)\n",
        "df[\"Cost\"] = 7 - df[\"Cost\"]\n",
        "\n",
        "# Drop rows with missing values\n",
        "df = df.dropna(subset=['EOC', 'Cost'])\n",
        "\n",
        "# Split the data into training and test sets\n",
        "X_train, X_test, y_train, y_test = train_test_split(df[['EOC']], df['Cost'], test_size=0.2, random_state=42)\n",
        "\n",
        "# Create an ordinal logistic regression model\n",
        "model = mord.LogisticAT()\n",
        "\n",
        "# Fit the model\n",
        "model.fit(X_train, y_train)\n",
        "\n",
        "# Make predictions\n",
        "predictions = model.predict(X_test)\n",
        "\n",
        "# Create confusion matrix\n",
        "cm = confusion_matrix(y_test, predictions)\n",
        "\n",
        "# Visualize the confusion matrix as a heatmap\n",
        "sns.heatmap(cm, annot=True, fmt='d', cmap='YlGnBu')\n",
        "\n",
        "ax.set_xticklabels(range(1, 7))\n",
        "ax.set_yticklabels(range(1, 7))\n",
        "\n",
        "plt.xlabel('Predicted')\n",
        "plt.ylabel('Actual')\n",
        "plt.title('Confusion Matrix of EOC vs Cost Value')\n",
        "plt.show()"
      ],
      "metadata": {
        "colab": {
          "base_uri": "https://localhost:8080/",
          "height": 472
        },
        "id": "I2UOlbMNE3JD",
        "outputId": "1f8aa79b-35f1-4112-e764-0502d1424a5c"
      },
      "execution_count": 29,
      "outputs": [
        {
          "output_type": "display_data",
          "data": {
            "text/plain": [
              "<Figure size 640x480 with 2 Axes>"
            ],
            "image/png": "[encoded data removed]"
          },
          "metadata": {}
        }
      ]
    },
    {
      "cell_type": "code",
      "source": [
        "df = pd.read_csv('checkpoints.csv')\n",
        "\n",
        "\n",
        "# Drop rows with missing or non-finite values\n",
        "df = df.dropna(subset=['EOC', 'Expectancy'])\n",
        "df = df[df['Expectancy'].apply(lambda x: np.isfinite(x))]\n",
        "\n",
        "\n",
        "# Convert the 'EOC' and 'Intrinsic Value' columns to numeric\n",
        "df['Expectancy'] = df['Expectancy'].astype(int)\n",
        "df[\"EOC\"] = df[\"EOC\"].astype(float)\n",
        "df[\"EOC\"] = (df[\"EOC\"].round(2) * 100)\n",
        "df[\"EOC\"] = df[\"EOC\"].astype(int)\n",
        "\n",
        "\n",
        "# Drop rows with missing values\n",
        "df = df.dropna(subset=['EOC', 'Cost'])\n",
        "\n",
        "# Split the data into training and test sets\n",
        "X_train, X_test, y_train, y_test = train_test_split(df[['EOC']], df['Expectancy'], test_size=0.2, random_state=42)\n",
        "\n",
        "# Create an ordinal logistic regression model\n",
        "model = mord.LogisticAT()\n",
        "\n",
        "# Fit the model\n",
        "model.fit(X_train, y_train)\n",
        "\n",
        "# Make predictions\n",
        "predictions = model.predict(X_test)\n",
        "\n",
        "# Create confusion matrix\n",
        "cm = confusion_matrix(y_test, predictions)\n",
        "\n",
        "# Visualize the confusion matrix as a heatmap\n",
        "sns.heatmap(cm, annot=True, fmt='d', cmap='YlGnBu')\n",
        "\n",
        "plt.xlabel('Predicted')\n",
        "plt.ylabel('Actual')\n",
        "plt.title('Confusion Matrix of EOC vs Expectancy Value')\n",
        "plt.show()"
      ],
      "metadata": {
        "colab": {
          "base_uri": "https://localhost:8080/",
          "height": 472
        },
        "id": "rxtQgCi5W5sQ",
        "outputId": "05f4838c-3a10-4586-b76b-383085051fef"
      },
      "execution_count": 33,
      "outputs": [
        {
          "output_type": "display_data",
          "data": {
            "text/plain": [
              "<Figure size 640x480 with 2 Axes>"
            ],
            "image/png": "[encoded data removed]"
          },
          "metadata": {}
        }
      ]
    },
    {
      "cell_type": "code",
      "source": [
        "import mord\n",
        "import numpy as np\n",
        "import pandas as pd\n",
        "import seaborn as sns\n",
        "from sklearn.model_selection import train_test_split\n",
        "from sklearn.metrics import confusion_matrix\n",
        "import matplotlib.pyplot as plt\n",
        "\n",
        "df = pd.read_csv('checkpoints.csv')\n",
        "\n",
        "# Drop rows with missing or non-finite values\n",
        "df = df.dropna(subset=['EOC', 'Intrinsic Value'])\n",
        "df = df[df['Intrinsic Value'].apply(lambda x: np.isfinite(x))]\n",
        "\n",
        "# Convert the 'EOC' and 'Intrinsic Value' columns to numeric\n",
        "df['Intrinsic Value'] = df['Intrinsic Value'].astype(int)\n",
        "df[\"EOC\"] = df[\"EOC\"].astype(float)\n",
        "df[\"EOC\"] = (df[\"EOC\"].round(2) * 100)\n",
        "df[\"EOC\"] = df[\"EOC\"].astype(int)\n",
        "\n",
        "# Drop rows with missing values\n",
        "df = df.dropna(subset=['EOC', 'Intrinsic Value'])\n",
        "\n",
        "# Split the data into training and test sets\n",
        "X_train, X_test, y_train, y_test = train_test_split(df[['Intrinsic Value']], df['EOC'], test_size=0.2, random_state=42)\n",
        "\n",
        "# Create an ordinal logistic regression model\n",
        "model = mord.LogisticAT()\n",
        "\n",
        "# Fit the model\n",
        "model.fit(X_train, y_train)\n",
        "\n",
        "# Make predictions\n",
        "predictions = model.predict(X_test)\n",
        "\n",
        "# Create confusion matrix\n",
        "cm = confusion_matrix(y_test, predictions)\n",
        "\n",
        "# Transpose the confusion matrix\n",
        "cm_transposed = cm.T\n",
        "\n",
        "# Visualize the transposed confusion matrix as a heatmap\n",
        "sns.heatmap(cm_transposed, annot=True, fmt='d', cmap='YlGnBu')\n",
        "plt.xlabel('Actual')\n",
        "plt.ylabel('Predicted')\n",
        "plt.title('Transposed Confusion Matrix of EOC vs Intrinsic Value')\n",
        "plt.show()"
      ],
      "metadata": {
        "colab": {
          "base_uri": "https://localhost:8080/",
          "height": 599
        },
        "id": "TaJDwx-QNm_1",
        "outputId": "263ef0b2-dbf5-4874-9012-3af69f4e2e9a"
      },
      "execution_count": null,
      "outputs": [
        {
          "output_type": "error",
          "ename": "ValueError",
          "evalue": "Values in y must be [ 0  1  2  3  4  5  6  7  8  9 10 11 12 13 14 15 16 17 18 19 20 21 22 23\n 24 25 26 27 28 29 30 31 32 33 34 35 36 37 38 39 40 41 42 43 44 45 46 47\n 48 49 50 51 52 53 54 55 56 57 58 59 60 61 62 63 64 65 66 67 68 69 70 71\n 72 73 74 75 76 77 78 79 80 81 82 83 84 85], instead got [  0  10  12  13  14  15  17  18  20  21  22  23  24  25  26  27  28  30\n  31  32  33  34  35  36  37  38  39  40  41  42  43  44  45  46  47  48\n  49  50  51  52  53  54  55  56  57  59  60  61  62  63  64  65  66  67\n  68  69  70  71  72  73  74  75  76  77  78  79  80  81  82  83  84  85\n  86  87  88  89  90  91  92  93  94  95  96  97  98 100]",
          "traceback": [
            "\u001b[0;31m---------------------------------------------------------------------------\u001b[0m",
            "\u001b[0;31mValueError\u001b[0m                                Traceback (most recent call last)",
            "\u001b[0;32m<ipython-input-69-5a838d9d360a>\u001b[0m in \u001b[0;36m<cell line: 31>\u001b[0;34m()\u001b[0m\n\u001b[1;32m     29\u001b[0m \u001b[0;34m\u001b[0m\u001b[0m\n\u001b[1;32m     30\u001b[0m \u001b[0;31m# Fit the model\u001b[0m\u001b[0;34m\u001b[0m\u001b[0;34m\u001b[0m\u001b[0m\n\u001b[0;32m---> 31\u001b[0;31m \u001b[0mmodel\u001b[0m\u001b[0;34m.\u001b[0m\u001b[0mfit\u001b[0m\u001b[0;34m(\u001b[0m\u001b[0mX_train\u001b[0m\u001b[0;34m,\u001b[0m \u001b[0my_train\u001b[0m\u001b[0;34m)\u001b[0m\u001b[0;34m\u001b[0m\u001b[0;34m\u001b[0m\u001b[0m\n\u001b[0m\u001b[1;32m     32\u001b[0m \u001b[0;34m\u001b[0m\u001b[0m\n\u001b[1;32m     33\u001b[0m \u001b[0;31m# Make predictions\u001b[0m\u001b[0;34m\u001b[0m\u001b[0;34m\u001b[0m\u001b[0m\n",
            "\u001b[0;32m/usr/local/lib/python3.10/dist-packages/mord/threshold_based.py\u001b[0m in \u001b[0;36mfit\u001b[0;34m(self, X, y, sample_weight)\u001b[0m\n\u001b[1;32m    193\u001b[0m         \u001b[0mself\u001b[0m\u001b[0;34m.\u001b[0m\u001b[0mn_class_\u001b[0m \u001b[0;34m=\u001b[0m \u001b[0mself\u001b[0m\u001b[0;34m.\u001b[0m\u001b[0mclasses_\u001b[0m\u001b[0;34m.\u001b[0m\u001b[0mmax\u001b[0m\u001b[0;34m(\u001b[0m\u001b[0;34m)\u001b[0m \u001b[0;34m-\u001b[0m \u001b[0mself\u001b[0m\u001b[0;34m.\u001b[0m\u001b[0mclasses_\u001b[0m\u001b[0;34m.\u001b[0m\u001b[0mmin\u001b[0m\u001b[0;34m(\u001b[0m\u001b[0;34m)\u001b[0m \u001b[0;34m+\u001b[0m \u001b[0;36m1\u001b[0m\u001b[0;34m\u001b[0m\u001b[0;34m\u001b[0m\u001b[0m\n\u001b[1;32m    194\u001b[0m         \u001b[0my_tmp\u001b[0m \u001b[0;34m=\u001b[0m \u001b[0my\u001b[0m \u001b[0;34m-\u001b[0m \u001b[0my\u001b[0m\u001b[0;34m.\u001b[0m\u001b[0mmin\u001b[0m\u001b[0;34m(\u001b[0m\u001b[0;34m)\u001b[0m  \u001b[0;31m# we need classes that start at zero\u001b[0m\u001b[0;34m\u001b[0m\u001b[0;34m\u001b[0m\u001b[0m\n\u001b[0;32m--> 195\u001b[0;31m         self.coef_, self.theta_ = threshold_fit(\n\u001b[0m\u001b[1;32m    196\u001b[0m             \u001b[0mX\u001b[0m\u001b[0;34m,\u001b[0m \u001b[0my_tmp\u001b[0m\u001b[0;34m,\u001b[0m \u001b[0mself\u001b[0m\u001b[0;34m.\u001b[0m\u001b[0malpha\u001b[0m\u001b[0;34m,\u001b[0m \u001b[0mself\u001b[0m\u001b[0;34m.\u001b[0m\u001b[0mn_class_\u001b[0m\u001b[0;34m,\u001b[0m \u001b[0mmode\u001b[0m\u001b[0;34m=\u001b[0m\u001b[0;34m'AE'\u001b[0m\u001b[0;34m,\u001b[0m\u001b[0;34m\u001b[0m\u001b[0;34m\u001b[0m\u001b[0m\n\u001b[1;32m    197\u001b[0m             \u001b[0mverbose\u001b[0m\u001b[0;34m=\u001b[0m\u001b[0mself\u001b[0m\u001b[0;34m.\u001b[0m\u001b[0mverbose\u001b[0m\u001b[0;34m,\u001b[0m \u001b[0mmax_iter\u001b[0m\u001b[0;34m=\u001b[0m\u001b[0mself\u001b[0m\u001b[0;34m.\u001b[0m\u001b[0mmax_iter\u001b[0m\u001b[0;34m,\u001b[0m\u001b[0;34m\u001b[0m\u001b[0;34m\u001b[0m\u001b[0m\n",
            "\u001b[0;32m/usr/local/lib/python3.10/dist-packages/mord/threshold_based.py\u001b[0m in \u001b[0;36mthreshold_fit\u001b[0;34m(X, y, alpha, n_class, mode, max_iter, verbose, tol, sample_weight)\u001b[0m\n\u001b[1;32m     96\u001b[0m     \u001b[0munique_y\u001b[0m \u001b[0;34m=\u001b[0m \u001b[0mnp\u001b[0m\u001b[0;34m.\u001b[0m\u001b[0msort\u001b[0m\u001b[0;34m(\u001b[0m\u001b[0mnp\u001b[0m\u001b[0;34m.\u001b[0m\u001b[0munique\u001b[0m\u001b[0;34m(\u001b[0m\u001b[0my\u001b[0m\u001b[0;34m)\u001b[0m\u001b[0;34m)\u001b[0m\u001b[0;34m\u001b[0m\u001b[0;34m\u001b[0m\u001b[0m\n\u001b[1;32m     97\u001b[0m     \u001b[0;32mif\u001b[0m \u001b[0;32mnot\u001b[0m \u001b[0mnp\u001b[0m\u001b[0;34m.\u001b[0m\u001b[0mall\u001b[0m\u001b[0;34m(\u001b[0m\u001b[0munique_y\u001b[0m \u001b[0;34m==\u001b[0m \u001b[0mnp\u001b[0m\u001b[0;34m.\u001b[0m\u001b[0marange\u001b[0m\u001b[0;34m(\u001b[0m\u001b[0munique_y\u001b[0m\u001b[0;34m.\u001b[0m\u001b[0msize\u001b[0m\u001b[0;34m)\u001b[0m\u001b[0;34m)\u001b[0m\u001b[0;34m:\u001b[0m\u001b[0;34m\u001b[0m\u001b[0;34m\u001b[0m\u001b[0m\n\u001b[0;32m---> 98\u001b[0;31m         raise ValueError(\n\u001b[0m\u001b[1;32m     99\u001b[0m             \u001b[0;34m'Values in y must be %s, instead got %s'\u001b[0m\u001b[0;34m\u001b[0m\u001b[0;34m\u001b[0m\u001b[0m\n\u001b[1;32m    100\u001b[0m             % (np.arange(unique_y.size), unique_y))\n",
            "\u001b[0;31mValueError\u001b[0m: Values in y must be [ 0  1  2  3  4  5  6  7  8  9 10 11 12 13 14 15 16 17 18 19 20 21 22 23\n 24 25 26 27 28 29 30 31 32 33 34 35 36 37 38 39 40 41 42 43 44 45 46 47\n 48 49 50 51 52 53 54 55 56 57 58 59 60 61 62 63 64 65 66 67 68 69 70 71\n 72 73 74 75 76 77 78 79 80 81 82 83 84 85], instead got [  0  10  12  13  14  15  17  18  20  21  22  23  24  25  26  27  28  30\n  31  32  33  34  35  36  37  38  39  40  41  42  43  44  45  46  47  48\n  49  50  51  52  53  54  55  56  57  59  60  61  62  63  64  65  66  67\n  68  69  70  71  72  73  74  75  76  77  78  79  80  81  82  83  84  85\n  86  87  88  89  90  91  92  93  94  95  96  97  98 100]"
          ]
        }
      ]
    },
    {
      "cell_type": "code",
      "source": [
        "import pandas as pd\n",
        "import seaborn as sns\n",
        "import matplotlib.pyplot as plt\n",
        "\n",
        "df = pd.read_csv('checkpoints.csv')\n",
        "\n",
        "# Drop rows with missing or non-finite values\n",
        "df = df.dropna(subset=['EOC', 'Intrinsic Value'])\n",
        "df = df[df['Intrinsic Value'].apply(lambda x: np.isfinite(x))]\n",
        "\n",
        "# Convert the 'EOC' and 'Intrinsic Value' columns to numeric\n",
        "df['Intrinsic Value'] = df['Intrinsic Value'].astype(int)\n",
        "df[\"EOC\"] = df[\"EOC\"].astype(float)\n",
        "\n",
        "# Calculate correlation matrix\n",
        "corr = df[['EOC', 'Intrinsic Value']].corr()\n",
        "\n",
        "# Plot the correlation matrix\n",
        "sns.heatmap(corr, annot=True, cmap='YlGnBu')\n",
        "plt.title('Correlation Matrix of EOC and Intrinsic Value')\n",
        "plt.show()"
      ],
      "metadata": {
        "colab": {
          "base_uri": "https://localhost:8080/",
          "height": 452
        },
        "id": "1zgFfh4V9ntq",
        "outputId": "9312ca84-a88d-4ee3-e9df-2aee5b314864"
      },
      "execution_count": null,
      "outputs": [
        {
          "output_type": "display_data",
          "data": {
            "text/plain": [
              "<Figure size 640x480 with 2 Axes>"
            ],
            "image/png": "[encoded data removed]"
          },
          "metadata": {}
        }
      ]
    },
    {
      "cell_type": "code",
      "source": [
        "import pandas as pd\n",
        "import seaborn as sns\n",
        "import matplotlib.pyplot as plt\n",
        "\n",
        "df = pd.read_csv('checkpoints.csv')\n",
        "df[\"EOC\"] = df[\"EOC\"].astype(float)"
      ],
      "metadata": {
        "id": "Dz2ot5VaKJ_y"
      },
      "execution_count": null,
      "outputs": []
    },
    {
      "cell_type": "code",
      "source": [
        "df['EOC'] = ((df[\"EOC\"].round(2) * 100))"
      ],
      "metadata": {
        "id": "4uQZSQsFK2GL"
      },
      "execution_count": null,
      "outputs": []
    },
    {
      "cell_type": "code",
      "source": [
        "df[\"EOC\"].unique()"
      ],
      "metadata": {
        "colab": {
          "base_uri": "https://localhost:8080/"
        },
        "id": "cIl98U50KKfj",
        "outputId": "84b77b8f-688d-4839-c909-df82b4e7d951"
      },
      "execution_count": null,
      "outputs": [
        {
          "output_type": "execute_result",
          "data": {
            "text/plain": [
              "array([ 92.,  84.,  77.,  74.,  78.,  70.,  71.,  72.,  64.,  68.,  57.,\n",
              "        67.,  54.,  55.,  51.,  45.,  79.,  37.,  86.,  87.,  88.,  93.,\n",
              "        83.,  81.,  82.,  75.,  63.,  60.,  58.,  62.,  50.,  47.,  43.,\n",
              "        44.,  66.,  46.,  85.,  61.,  48.,  33.,  76.,  65.,  53.,  73.,\n",
              "        56.,  38.,  29.,  49.,  40.,  35.,  42.,  31.,  95.,  28.,  36.,\n",
              "        26.,  97.,  80.,  59., 100.,  91.,  34.,  41.,  89.,  90.,  69.,\n",
              "        96.,   0.,  24.,  20.,  21.,   8.,  23.,  39.,  25.,  30.,  17.,\n",
              "        52.,  32.,  19.,  27.,  94.,  nan,  10.,  22.,  13.,   9.,  18.,\n",
              "        16.,  98.,  11.,  15.,  14.,  12.])"
            ]
          },
          "metadata": {},
          "execution_count": 87
        }
      ]
    },
    {
      "cell_type": "code",
      "source": [
        "df.to_csv(\"checks.csv\", index=False)"
      ],
      "metadata": {
        "id": "y1fxz0_LKKru"
      },
      "execution_count": null,
      "outputs": []
    },
    {
      "cell_type": "code",
      "source": [
        "import pandas as pd\n",
        "df = pd.read_csv(\"checks.csv\")"
      ],
      "metadata": {
        "id": "sj0dWPgBKK30"
      },
      "execution_count": null,
      "outputs": []
    },
    {
      "cell_type": "code",
      "source": [
        "df = df.replace([np.inf, -np.inf], np.nan)\n",
        "df = df.dropna(subset=['EOC'])\n",
        "df['EOC'] = df['EOC'].astype(int)"
      ],
      "metadata": {
        "id": "IwGv1MM6RWKp"
      },
      "execution_count": null,
      "outputs": []
    },
    {
      "cell_type": "code",
      "source": [
        "df.head()"
      ],
      "metadata": {
        "colab": {
          "base_uri": "https://localhost:8080/",
          "height": 206
        },
        "id": "0aDmzOmLRWYe",
        "outputId": "c171454d-8b36-4b6e-c29d-8b1ce7c810c6"
      },
      "execution_count": null,
      "outputs": [
        {
          "output_type": "execute_result",
          "data": {
            "text/plain": [
              "   student_id  class_id  chapter_number  book  EOC  n_possible  n_correct  \\\n",
              "0       104.0       8.0               1  CABC    0          38         35   \n",
              "1       104.0       8.0               2  CABC    0          87         73   \n",
              "2       104.0       8.0               3  CABC    0         104         80   \n",
              "3       104.0       8.0               4  CABC    0         118         87   \n",
              "4       104.0       8.0               5  CABC    0          63         49   \n",
              "\n",
              "   n_attempt  Cost  Expectancy  Intrinsic Value  Utility Value  \n",
              "0         40   NaN         NaN              NaN            NaN  \n",
              "1        127   2.0         5.0              5.0            4.0  \n",
              "2        145   4.0         4.0              4.0            4.0  \n",
              "3        217   4.0         4.0              4.0            4.0  \n",
              "4         90   4.0         4.0              4.0            4.0  "
            ],
            "text/html": [
              "\n",
              "  <div id=\"df-76e4ccdc-34cf-4f94-9741-61b3360652b4\" class=\"colab-df-container\">\n",
              "    <div>\n",
              "<style scoped>\n",
              "    .dataframe tbody tr th:only-of-type {\n",
              "        vertical-align: middle;\n",
              "    }\n",
              "\n",
              "    .dataframe tbody tr th {\n",
              "        vertical-align: top;\n",
              "    }\n",
              "\n",
              "    .dataframe thead th {\n",
              "        text-align: right;\n",
              "    }\n",
              "</style>\n",
              "<table border=\"1\" class=\"dataframe\">\n",
              "  <thead>\n",
              "    <tr style=\"text-align: right;\">\n",
              "      <th></th>\n",
              "      <th>student_id</th>\n",
              "      <th>class_id</th>\n",
              "      <th>chapter_number</th>\n",
              "      <th>book</th>\n",
              "      <th>EOC</th>\n",
              "      <th>n_possible</th>\n",
              "      <th>n_correct</th>\n",
              "      <th>n_attempt</th>\n",
              "      <th>Cost</th>\n",
              "      <th>Expectancy</th>\n",
              "      <th>Intrinsic Value</th>\n",
              "      <th>Utility Value</th>\n",
              "    </tr>\n",
              "  </thead>\n",
              "  <tbody>\n",
              "    <tr>\n",
              "      <th>0</th>\n",
              "      <td>104.0</td>\n",
              "      <td>8.0</td>\n",
              "      <td>1</td>\n",
              "      <td>CABC</td>\n",
              "      <td>0</td>\n",
              "      <td>38</td>\n",
              "      <td>35</td>\n",
              "      <td>40</td>\n",
              "      <td>NaN</td>\n",
              "      <td>NaN</td>\n",
              "      <td>NaN</td>\n",
              "      <td>NaN</td>\n",
              "    </tr>\n",
              "    <tr>\n",
              "      <th>1</th>\n",
              "      <td>104.0</td>\n",
              "      <td>8.0</td>\n",
              "      <td>2</td>\n",
              "      <td>CABC</td>\n",
              "      <td>0</td>\n",
              "      <td>87</td>\n",
              "      <td>73</td>\n",
              "      <td>127</td>\n",
              "      <td>2.0</td>\n",
              "      <td>5.0</td>\n",
              "      <td>5.0</td>\n",
              "      <td>4.0</td>\n",
              "    </tr>\n",
              "    <tr>\n",
              "      <th>2</th>\n",
              "      <td>104.0</td>\n",
              "      <td>8.0</td>\n",
              "      <td>3</td>\n",
              "      <td>CABC</td>\n",
              "      <td>0</td>\n",
              "      <td>104</td>\n",
              "      <td>80</td>\n",
              "      <td>145</td>\n",
              "      <td>4.0</td>\n",
              "      <td>4.0</td>\n",
              "      <td>4.0</td>\n",
              "      <td>4.0</td>\n",
              "    </tr>\n",
              "    <tr>\n",
              "      <th>3</th>\n",
              "      <td>104.0</td>\n",
              "      <td>8.0</td>\n",
              "      <td>4</td>\n",
              "      <td>CABC</td>\n",
              "      <td>0</td>\n",
              "      <td>118</td>\n",
              "      <td>87</td>\n",
              "      <td>217</td>\n",
              "      <td>4.0</td>\n",
              "      <td>4.0</td>\n",
              "      <td>4.0</td>\n",
              "      <td>4.0</td>\n",
              "    </tr>\n",
              "    <tr>\n",
              "      <th>4</th>\n",
              "      <td>104.0</td>\n",
              "      <td>8.0</td>\n",
              "      <td>5</td>\n",
              "      <td>CABC</td>\n",
              "      <td>0</td>\n",
              "      <td>63</td>\n",
              "      <td>49</td>\n",
              "      <td>90</td>\n",
              "      <td>4.0</td>\n",
              "      <td>4.0</td>\n",
              "      <td>4.0</td>\n",
              "      <td>4.0</td>\n",
              "    </tr>\n",
              "  </tbody>\n",
              "</table>\n",
              "</div>\n",
              "    <div class=\"colab-df-buttons\">\n",
              "\n",
              "  <div class=\"colab-df-container\">\n",
              "    <button class=\"colab-df-convert\" onclick=\"convertToInteractive('df-76e4ccdc-34cf-4f94-9741-61b3360652b4')\"\n",
              "            title=\"Convert this dataframe to an interactive table.\"\n",
              "            style=\"display:none;\">\n",
              "\n",
              "  <svg xmlns=\"http://www.w3.org/2000/svg\" height=\"24px\" viewBox=\"0 -960 960 960\">\n",
              "    <path d=\"M120-120v-720h720v720H120Zm60-500h600v-160H180v160Zm220 220h160v-160H400v160Zm0 220h160v-160H400v160ZM180-400h160v-160H180v160Zm440 0h160v-160H620v160ZM180-180h160v-160H180v160Zm440 0h160v-160H620v160Z\"/>\n",
              "  </svg>\n",
              "    </button>\n",
              "\n",
              "  <style>\n",
              "    .colab-df-container {\n",
              "      display:flex;\n",
              "      gap: 12px;\n",
              "    }\n",
              "\n",
              "    .colab-df-convert {\n",
              "      background-color: #E8F0FE;\n",
              "      border: none;\n",
              "      border-radius: 50%;\n",
              "      cursor: pointer;\n",
              "      display: none;\n",
              "      fill: #1967D2;\n",
              "      height: 32px;\n",
              "      padding: 0 0 0 0;\n",
              "      width: 32px;\n",
              "    }\n",
              "\n",
              "    .colab-df-convert:hover {\n",
              "      background-color: #E2EBFA;\n",
              "      box-shadow: 0px 1px 2px rgba(60, 64, 67, 0.3), 0px 1px 3px 1px rgba(60, 64, 67, 0.15);\n",
              "      fill: #174EA6;\n",
              "    }\n",
              "\n",
              "    .colab-df-buttons div {\n",
              "      margin-bottom: 4px;\n",
              "    }\n",
              "\n",
              "    [theme=dark] .colab-df-convert {\n",
              "      background-color: #3B4455;\n",
              "      fill: #D2E3FC;\n",
              "    }\n",
              "\n",
              "    [theme=dark] .colab-df-convert:hover {\n",
              "      background-color: #434B5C;\n",
              "      box-shadow: 0px 1px 3px 1px rgba(0, 0, 0, 0.15);\n",
              "      filter: drop-shadow(0px 1px 2px rgba(0, 0, 0, 0.3));\n",
              "      fill: #FFFFFF;\n",
              "    }\n",
              "  </style>\n",
              "\n",
              "    <script>\n",
              "      const buttonEl =\n",
              "        document.querySelector('#df-76e4ccdc-34cf-4f94-9741-61b3360652b4 button.colab-df-convert');\n",
              "      buttonEl.style.display =\n",
              "        google.colab.kernel.accessAllowed ? 'block' : 'none';\n",
              "\n",
              "      async function convertToInteractive(key) {\n",
              "        const element = document.querySelector('#df-76e4ccdc-34cf-4f94-9741-61b3360652b4');\n",
              "        const dataTable =\n",
              "          await google.colab.kernel.invokeFunction('convertToInteractive',\n",
              "                                                    [key], {});\n",
              "        if (!dataTable) return;\n",
              "\n",
              "        const docLinkHtml = 'Like what you see? Visit the ' +\n",
              "          '<a target=\"_blank\" href=https://colab.research.google.com/notebooks/data_table.ipynb>data table notebook</a>'\n",
              "          + ' to learn more about interactive tables.';\n",
              "        element.innerHTML = '';\n",
              "        dataTable['output_type'] = 'display_data';\n",
              "        await google.colab.output.renderOutput(dataTable, element);\n",
              "        const docLink = document.createElement('div');\n",
              "        docLink.innerHTML = docLinkHtml;\n",
              "        element.appendChild(docLink);\n",
              "      }\n",
              "    </script>\n",
              "  </div>\n",
              "\n",
              "\n",
              "<div id=\"df-dfbbbfdf-fb5c-4ee8-ba9c-0fa2565b331e\">\n",
              "  <button class=\"colab-df-quickchart\" onclick=\"quickchart('df-dfbbbfdf-fb5c-4ee8-ba9c-0fa2565b331e')\"\n",
              "            title=\"Suggest charts\"\n",
              "            style=\"display:none;\">\n",
              "\n",
              "<svg xmlns=\"http://www.w3.org/2000/svg\" height=\"24px\"viewBox=\"0 0 24 24\"\n",
              "     width=\"24px\">\n",
              "    <g>\n",
              "        <path d=\"M19 3H5c-1.1 0-2 .9-2 2v14c0 1.1.9 2 2 2h14c1.1 0 2-.9 2-2V5c0-1.1-.9-2-2-2zM9 17H7v-7h2v7zm4 0h-2V7h2v10zm4 0h-2v-4h2v4z\"/>\n",
              "    </g>\n",
              "</svg>\n",
              "  </button>\n",
              "\n",
              "<style>\n",
              "  .colab-df-quickchart {\n",
              "      --bg-color: #E8F0FE;\n",
              "      --fill-color: #1967D2;\n",
              "      --hover-bg-color: #E2EBFA;\n",
              "      --hover-fill-color: #174EA6;\n",
              "      --disabled-fill-color: #AAA;\n",
              "      --disabled-bg-color: #DDD;\n",
              "  }\n",
              "\n",
              "  [theme=dark] .colab-df-quickchart {\n",
              "      --bg-color: #3B4455;\n",
              "      --fill-color: #D2E3FC;\n",
              "      --hover-bg-color: #434B5C;\n",
              "      --hover-fill-color: #FFFFFF;\n",
              "      --disabled-bg-color: #3B4455;\n",
              "      --disabled-fill-color: #666;\n",
              "  }\n",
              "\n",
              "  .colab-df-quickchart {\n",
              "    background-color: var(--bg-color);\n",
              "    border: none;\n",
              "    border-radius: 50%;\n",
              "    cursor: pointer;\n",
              "    display: none;\n",
              "    fill: var(--fill-color);\n",
              "    height: 32px;\n",
              "    padding: 0;\n",
              "    width: 32px;\n",
              "  }\n",
              "\n",
              "  .colab-df-quickchart:hover {\n",
              "    background-color: var(--hover-bg-color);\n",
              "    box-shadow: 0 1px 2px rgba(60, 64, 67, 0.3), 0 1px 3px 1px rgba(60, 64, 67, 0.15);\n",
              "    fill: var(--button-hover-fill-color);\n",
              "  }\n",
              "\n",
              "  .colab-df-quickchart-complete:disabled,\n",
              "  .colab-df-quickchart-complete:disabled:hover {\n",
              "    background-color: var(--disabled-bg-color);\n",
              "    fill: var(--disabled-fill-color);\n",
              "    box-shadow: none;\n",
              "  }\n",
              "\n",
              "  .colab-df-spinner {\n",
              "    border: 2px solid var(--fill-color);\n",
              "    border-color: transparent;\n",
              "    border-bottom-color: var(--fill-color);\n",
              "    animation:\n",
              "      spin 1s steps(1) infinite;\n",
              "  }\n",
              "\n",
              "  @keyframes spin {\n",
              "    0% {\n",
              "      border-color: transparent;\n",
              "      border-bottom-color: var(--fill-color);\n",
              "      border-left-color: var(--fill-color);\n",
              "    }\n",
              "    20% {\n",
              "      border-color: transparent;\n",
              "      border-left-color: var(--fill-color);\n",
              "      border-top-color: var(--fill-color);\n",
              "    }\n",
              "    30% {\n",
              "      border-color: transparent;\n",
              "      border-left-color: var(--fill-color);\n",
              "      border-top-color: var(--fill-color);\n",
              "      border-right-color: var(--fill-color);\n",
              "    }\n",
              "    40% {\n",
              "      border-color: transparent;\n",
              "      border-right-color: var(--fill-color);\n",
              "      border-top-color: var(--fill-color);\n",
              "    }\n",
              "    60% {\n",
              "      border-color: transparent;\n",
              "      border-right-color: var(--fill-color);\n",
              "    }\n",
              "    80% {\n",
              "      border-color: transparent;\n",
              "      border-right-color: var(--fill-color);\n",
              "      border-bottom-color: var(--fill-color);\n",
              "    }\n",
              "    90% {\n",
              "      border-color: transparent;\n",
              "      border-bottom-color: var(--fill-color);\n",
              "    }\n",
              "  }\n",
              "</style>\n",
              "\n",
              "  <script>\n",
              "    async function quickchart(key) {\n",
              "      const quickchartButtonEl =\n",
              "        document.querySelector('#' + key + ' button');\n",
              "      quickchartButtonEl.disabled = true;  // To prevent multiple clicks.\n",
              "      quickchartButtonEl.classList.add('colab-df-spinner');\n",
              "      try {\n",
              "        const charts = await google.colab.kernel.invokeFunction(\n",
              "            'suggestCharts', [key], {});\n",
              "      } catch (error) {\n",
              "        console.error('Error during call to suggestCharts:', error);\n",
              "      }\n",
              "      quickchartButtonEl.classList.remove('colab-df-spinner');\n",
              "      quickchartButtonEl.classList.add('colab-df-quickchart-complete');\n",
              "    }\n",
              "    (() => {\n",
              "      let quickchartButtonEl =\n",
              "        document.querySelector('#df-dfbbbfdf-fb5c-4ee8-ba9c-0fa2565b331e button');\n",
              "      quickchartButtonEl.style.display =\n",
              "        google.colab.kernel.accessAllowed ? 'block' : 'none';\n",
              "    })();\n",
              "  </script>\n",
              "</div>\n",
              "\n",
              "    </div>\n",
              "  </div>\n"
            ],
            "application/vnd.google.colaboratory.intrinsic+json": {
              "type": "dataframe",
              "variable_name": "df",
              "summary": "{\n  \"name\": \"df\",\n  \"rows\": 2535,\n  \"fields\": [\n    {\n      \"column\": \"student_id\",\n      \"properties\": {\n        \"dtype\": \"number\",\n        \"std\": 71.17685027263404,\n        \"min\": 1.0,\n        \"max\": 250.0,\n        \"num_unique_values\": 239,\n        \"samples\": [\n          9.0,\n          72.0,\n          74.0\n        ],\n        \"semantic_type\": \"\",\n        \"description\": \"\"\n      }\n    },\n    {\n      \"column\": \"class_id\",\n      \"properties\": {\n        \"dtype\": \"number\",\n        \"std\": 14.299060080051989,\n        \"min\": 1.0,\n        \"max\": 45.0,\n        \"num_unique_values\": 45,\n        \"samples\": [\n          38.0,\n          30.0,\n          25.0\n        ],\n        \"semantic_type\": \"\",\n        \"description\": \"\"\n      }\n    },\n    {\n      \"column\": \"chapter_number\",\n      \"properties\": {\n        \"dtype\": \"number\",\n        \"std\": 3,\n        \"min\": 1,\n        \"max\": 16,\n        \"num_unique_values\": 16,\n        \"samples\": [\n          1,\n          2,\n          6\n        ],\n        \"semantic_type\": \"\",\n        \"description\": \"\"\n      }\n    },\n    {\n      \"column\": \"book\",\n      \"properties\": {\n        \"dtype\": \"category\",\n        \"num_unique_values\": 3,\n        \"samples\": [\n          \"CABC\",\n          \"CABCD\",\n          \"HABC\"\n        ],\n        \"semantic_type\": \"\",\n        \"description\": \"\"\n      }\n    },\n    {\n      \"column\": \"EOC\",\n      \"properties\": {\n        \"dtype\": \"number\",\n        \"std\": 0,\n        \"min\": 0,\n        \"max\": 1,\n        \"num_unique_values\": 2,\n        \"samples\": [\n          1,\n          0\n        ],\n        \"semantic_type\": \"\",\n        \"description\": \"\"\n      }\n    },\n    {\n      \"column\": \"n_possible\",\n      \"properties\": {\n        \"dtype\": \"number\",\n        \"std\": 32,\n        \"min\": 1,\n        \"max\": 250,\n        \"num_unique_values\": 179,\n        \"samples\": [\n          28,\n          65\n        ],\n        \"semantic_type\": \"\",\n        \"description\": \"\"\n      }\n    },\n    {\n      \"column\": \"n_correct\",\n      \"properties\": {\n        \"dtype\": \"number\",\n        \"std\": 24,\n        \"min\": 0,\n        \"max\": 184,\n        \"num_unique_values\": 124,\n        \"samples\": [\n          11,\n          42\n        ],\n        \"semantic_type\": \"\",\n        \"description\": \"\"\n      }\n    },\n    {\n      \"column\": \"n_attempt\",\n      \"properties\": {\n        \"dtype\": \"number\",\n        \"std\": 107,\n        \"min\": 1,\n        \"max\": 2946,\n        \"num_unique_values\": 344,\n        \"samples\": [\n          495,\n          139\n        ],\n        \"semantic_type\": \"\",\n        \"description\": \"\"\n      }\n    },\n    {\n      \"column\": \"Cost\",\n      \"properties\": {\n        \"dtype\": \"number\",\n        \"std\": 1.2222390677855364,\n        \"min\": 1.0,\n        \"max\": 6.0,\n        \"num_unique_values\": 6,\n        \"samples\": [\n          2.0,\n          4.0\n        ],\n        \"semantic_type\": \"\",\n        \"description\": \"\"\n      }\n    },\n    {\n      \"column\": \"Expectancy\",\n      \"properties\": {\n        \"dtype\": \"number\",\n        \"std\": 1.138030620119141,\n        \"min\": 1.0,\n        \"max\": 6.0,\n        \"num_unique_values\": 6,\n        \"samples\": [\n          5.0,\n          4.0\n        ],\n        \"semantic_type\": \"\",\n        \"description\": \"\"\n      }\n    },\n    {\n      \"column\": \"Intrinsic Value\",\n      \"properties\": {\n        \"dtype\": \"number\",\n        \"std\": 1.0693454569175005,\n        \"min\": 1.0,\n        \"max\": 6.0,\n        \"num_unique_values\": 6,\n        \"samples\": [\n          5.0,\n          4.0\n        ],\n        \"semantic_type\": \"\",\n        \"description\": \"\"\n      }\n    },\n    {\n      \"column\": \"Utility Value\",\n      \"properties\": {\n        \"dtype\": \"number\",\n        \"std\": 1.0883214446394613,\n        \"min\": 1.0,\n        \"max\": 6.0,\n        \"num_unique_values\": 6,\n        \"samples\": [\n          4.0,\n          3.0\n        ],\n        \"semantic_type\": \"\",\n        \"description\": \"\"\n      }\n    }\n  ]\n}"
            }
          },
          "metadata": {},
          "execution_count": 103
        }
      ]
    },
    {
      "cell_type": "code",
      "source": [],
      "metadata": {
        "id": "HeHP5NxmWFSF"
      },
      "execution_count": null,
      "outputs": []
    },
    {
      "cell_type": "code",
      "source": [
        "import mord\n",
        "import numpy as np\n",
        "import pandas as pd\n",
        "import seaborn as sns\n",
        "from sklearn.model_selection import train_test_split\n",
        "from sklearn.metrics import confusion_matrix\n",
        "\n",
        "df = pd.read_csv('checks.csv')\n",
        "\n",
        "\n",
        "# Drop rows with missing or non-finite values\n",
        "df = df.dropna(subset=['EOC', 'Intrinsic Value'])\n",
        "df = df[df['Intrinsic Value'].apply(lambda x: np.isfinite(x))]\n",
        "\n",
        "# Convert the 'EOC' and 'Intrinsic Value' columns to numeric\n",
        "df['Intrinsic Value'] = df['Intrinsic Value'].astype(int)\n",
        "df[\"EOC\"] = df[\"EOC\"].astype(int)\n",
        "\n",
        "# Drop rows with missing values\n",
        "df = df.dropna(subset=['EOC', 'Intrinsic Value'])\n",
        "\n",
        "# Split the data into training and test sets\n",
        "X_train, X_test, y_train, y_test = train_test_split(df[['Intrinsic Value']], df['EOC'], test_size=0.2, random_state=42)\n",
        "\n",
        "# Create an ordinal logistic regression model\n",
        "model = mord.LogisticAT()\n",
        "\n",
        "# Fit the model\n",
        "model.fit(X_train, y_train)\n",
        "\n",
        "# Make predictions\n",
        "predictions = model.predict(X_test)\n",
        "\n",
        "# Create confusion matrix\n",
        "cm = confusion_matrix(y_test, predictions)\n",
        "\n",
        "# Visualize the confusion matrix as a heatmap\n",
        "sns.heatmap(cm, annot=True, fmt='d', cmap='YlGnBu')\n",
        "plt.xlabel('Predicted')\n",
        "plt.ylabel('Actual')\n",
        "plt.title('Confusion Matrix of EOC vs Intrinsic Value')\n",
        "plt.show()"
      ],
      "metadata": {
        "colab": {
          "base_uri": "https://localhost:8080/",
          "height": 472
        },
        "outputId": "644f60fc-a226-4652-d275-edd5f6d37829",
        "id": "BdfLHnUaWTlS"
      },
      "execution_count": null,
      "outputs": [
        {
          "output_type": "display_data",
          "data": {
            "text/plain": [
              "<Figure size 640x480 with 2 Axes>"
            ],
            "image/png": "[encoded data removed]"
          },
          "metadata": {}
        }
      ]
    },
    {
      "cell_type": "code",
      "source": [],
      "metadata": {
        "id": "iy5orCwBWFNd"
      },
      "execution_count": null,
      "outputs": []
    },
    {
      "cell_type": "code",
      "source": [],
      "metadata": {
        "id": "HuQxuBnqWFJZ"
      },
      "execution_count": null,
      "outputs": []
    },
    {
      "cell_type": "code",
      "source": [],
      "metadata": {
        "id": "LQiRjJGZWFFD"
      },
      "execution_count": null,
      "outputs": []
    },
    {
      "cell_type": "code",
      "source": [],
      "metadata": {
        "id": "TZwsTxlRWFAC"
      },
      "execution_count": null,
      "outputs": []
    },
    {
      "cell_type": "code",
      "source": [],
      "metadata": {
        "id": "PBJ8wLxdWE3q"
      },
      "execution_count": null,
      "outputs": []
    },
    {
      "cell_type": "code",
      "source": [
        "from sklearn.preprocessing import MinMaxScaler\n",
        "\n",
        "# Load the data\n",
        "df = pd.read_csv(\"checks.csv\", low_memory=False)\n",
        "\n",
        "# Select only the integer columns\n",
        "df_int = df.select_dtypes(include=['int64'])\n",
        "\n",
        "# Create a scaler object\n",
        "scaler = MinMaxScaler()\n",
        "\n",
        "# Fit and transform the data\n",
        "df_int_normalized = pd.DataFrame(scaler.fit_transform(df_int), columns=df_int.columns)\n",
        "\n",
        "# Replace the original integer columns with the normalized ones\n",
        "df[df_int.columns] = df_int_normalized\n",
        "\n",
        "print(df.head(5))"
      ],
      "metadata": {
        "colab": {
          "base_uri": "https://localhost:8080/"
        },
        "id": "dUba5X3hRWkh",
        "outputId": "22117162-48b4-4758-a15d-5b709f3148f2"
      },
      "execution_count": null,
      "outputs": [
        {
          "output_type": "stream",
          "name": "stdout",
          "text": [
            "   student_id  class_id  chapter_number  book   EOC  n_possible  n_correct  \\\n",
            "0       104.0       8.0        0.000000  CABC  92.0       0.152   0.190217   \n",
            "1       104.0       8.0        0.066667  CABC  84.0       0.348   0.396739   \n",
            "2       104.0       8.0        0.133333  CABC  77.0       0.416   0.434783   \n",
            "3       104.0       8.0        0.200000  CABC  74.0       0.472   0.472826   \n",
            "4       104.0       8.0        0.266667  CABC  78.0       0.252   0.266304   \n",
            "\n",
            "   n_attempt  Cost  Expectancy  Intrinsic Value  Utility Value  \n",
            "0   0.013243   NaN         NaN              NaN            NaN  \n",
            "1   0.042784   2.0         5.0              5.0            4.0  \n",
            "2   0.048896   4.0         4.0              4.0            4.0  \n",
            "3   0.073345   4.0         4.0              4.0            4.0  \n",
            "4   0.030221   4.0         4.0              4.0            4.0  \n"
          ]
        }
      ]
    },
    {
      "cell_type": "code",
      "source": [
        "from sklearn.preprocessing import MinMaxScaler\n",
        "\n",
        "# Load the data\n",
        "df = pd.read_csv(\"checks.csv\", low_memory=False)\n",
        "\n",
        "# Specify the columns you want to normalize\n",
        "columns_to_normalize = ['EOC']  # replace these with your column names\n",
        "\n",
        "# Create a scaler object\n",
        "scaler = MinMaxScaler()\n",
        "\n",
        "# Fit and transform the data\n",
        "df[columns_to_normalize] = scaler.fit_transform(df[columns_to_normalize])\n",
        "\n",
        "print(df.head(5))"
      ],
      "metadata": {
        "colab": {
          "base_uri": "https://localhost:8080/"
        },
        "id": "qjUrm-6rUSwt",
        "outputId": "da7b20f2-b7b2-4aa2-ded7-78a14c49c463"
      },
      "execution_count": null,
      "outputs": [
        {
          "output_type": "stream",
          "name": "stdout",
          "text": [
            "   student_id  class_id  chapter_number  book   EOC  n_possible  n_correct  \\\n",
            "0       104.0       8.0               1  CABC  0.92          38         35   \n",
            "1       104.0       8.0               2  CABC  0.84          87         73   \n",
            "2       104.0       8.0               3  CABC  0.77         104         80   \n",
            "3       104.0       8.0               4  CABC  0.74         118         87   \n",
            "4       104.0       8.0               5  CABC  0.78          63         49   \n",
            "\n",
            "   n_attempt  Cost  Expectancy  Intrinsic Value  Utility Value  \n",
            "0         40   NaN         NaN              NaN            NaN  \n",
            "1        127   2.0         5.0              5.0            4.0  \n",
            "2        145   4.0         4.0              4.0            4.0  \n",
            "3        217   4.0         4.0              4.0            4.0  \n",
            "4         90   4.0         4.0              4.0            4.0  \n"
          ]
        }
      ]
    },
    {
      "cell_type": "code",
      "source": [],
      "metadata": {
        "colab": {
          "base_uri": "https://localhost:8080/",
          "height": 545
        },
        "id": "bm0Do58PVB5w",
        "outputId": "e40dca56-1342-477f-f302-47b3db996195"
      },
      "execution_count": null,
      "outputs": [
        {
          "output_type": "display_data",
          "data": {
            "text/plain": [
              "<Figure size 1200x600 with 1 Axes>"
            ],
            "image/png": "[encoded data removed]"
          },
          "metadata": {}
        }
      ]
    },
    {
      "cell_type": "code",
      "source": [],
      "metadata": {
        "id": "M7W3HsjhVA_I"
      },
      "execution_count": null,
      "outputs": []
    }
  ]
}